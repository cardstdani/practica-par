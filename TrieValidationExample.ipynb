{
  "nbformat": 4,
  "nbformat_minor": 0,
  "metadata": {
    "colab": {
      "provenance": [],
      "authorship_tag": "ABX9TyNPuoxk7mWc/6zdYY9wt2D1",
      "include_colab_link": true
    },
    "kernelspec": {
      "name": "python3",
      "display_name": "Python 3"
    },
    "language_info": {
      "name": "python"
    }
  },
  "cells": [
    {
      "cell_type": "markdown",
      "metadata": {
        "id": "view-in-github",
        "colab_type": "text"
      },
      "source": [
        "<a href=\"https://colab.research.google.com/github/cardstdani/practica-par/blob/main/TrieValidationExample.ipynb\" target=\"_parent\"><img src=\"https://colab.research.google.com/assets/colab-badge.svg\" alt=\"Open In Colab\"/></a>"
      ]
    },
    {
      "cell_type": "code",
      "source": [
        "!pip install pyvis==0.3.1"
      ],
      "metadata": {
        "id": "42dZw3_aodJM"
      },
      "execution_count": null,
      "outputs": []
    },
    {
      "cell_type": "code",
      "execution_count": null,
      "metadata": {
        "id": "ug3YxG92oQEn"
      },
      "outputs": [],
      "source": [
        "import random\n",
        "import math\n",
        "import copy\n",
        "import pandas as pd\n",
        "import numpy as np\n",
        "from pyvis.network import Network\n",
        "import matplotlib.pyplot as plt\n",
        "\n",
        "class TrieNode:\n",
        "    def __init__(self, inputChar):\n",
        "        self.char = inputChar\n",
        "        self.end = False\n",
        "        self.children = {}\n",
        " \n",
        "class Trie():\n",
        "    def __init__(self, startingElements=None):\n",
        "        self.root = TrieNode(\"\")\n",
        "        if startingElements!=None:\n",
        "          for i in startingElements: self.insert(i)\n",
        "    def insert(self, word):\n",
        "        node = self.root\n",
        "        for char in word:\n",
        "            if char in node.children:\n",
        "                node = node.children[char]\n",
        "            else:\n",
        "                new_node = TrieNode(char)\n",
        "                node.children[char] = new_node\n",
        "                node = new_node\n",
        "        node.end = True      \n",
        "    def searchAndSplit(self, x):\n",
        "        node = self.root\n",
        "        output = [\"\", \"\"]\n",
        "        for char in x:\n",
        "            if char in node.children:\n",
        "                node = node.children[char]            \n",
        "            else:\n",
        "                return []        \n",
        "            output[1 if node.end else 0] += node.char\n",
        "        return output if node.end else []\n",
        "    def toGraph(self):      \n",
        "      g = Network(directed =True)      \n",
        "      g.show_buttons()\n",
        "\n",
        "      nodeIndex = 1\n",
        "      currentNode = 0\n",
        "      q = [self.root]      \n",
        "      g.add_node(currentNode, label=\"\", color=\"red\")\n",
        "      tempLabels = {0:\"\"}\n",
        "      while q!=[]:\n",
        "        n = q.pop(0)                     \n",
        "        for i in n.children.values():\n",
        "          tempLabels[nodeIndex] = tempLabels[currentNode]+i.char\n",
        "          g.add_node(nodeIndex, label=tempLabels[currentNode]+i.char, color=\"#48e073\" if i.end else \"blue\")\n",
        "          g.add_edge(currentNode, nodeIndex)\n",
        "          nodeIndex+=1\n",
        "          q.append(i)\n",
        "        currentNode+=1\n",
        "      g.show('nx.html')"
      ]
    }
  ]
}