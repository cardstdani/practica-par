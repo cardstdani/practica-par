{
  "nbformat": 4,
  "nbformat_minor": 0,
  "metadata": {
    "colab": {
      "provenance": [],
      "include_colab_link": true
    },
    "kernelspec": {
      "name": "python3",
      "display_name": "Python 3"
    },
    "language_info": {
      "name": "python"
    }
  },
  "cells": [
    {
      "cell_type": "markdown",
      "metadata": {
        "id": "view-in-github",
        "colab_type": "text"
      },
      "source": [
        "<a href=\"https://colab.research.google.com/github/cardstdani/practica-par/blob/main/PracticaParadigmas.ipynb\" target=\"_parent\"><img src=\"https://colab.research.google.com/assets/colab-badge.svg\" alt=\"Open In Colab\"/></a>"
      ]
    },
    {
      "cell_type": "markdown",
      "source": [
        "**Práctica Paradigmas 1**"
      ],
      "metadata": {
        "id": "wImBr3cEO8zm"
      }
    },
    {
      "cell_type": "code",
      "source": [
        "!pip install pyvis==0.3.1"
      ],
      "metadata": {
        "id": "HXLcCQxcSrV_",
        "colab": {
          "base_uri": "https://localhost:8080/"
        },
        "outputId": "7846a46b-7491-46f2-df11-757371da8152"
      },
      "execution_count": 1,
      "outputs": [
        {
          "output_type": "stream",
          "name": "stdout",
          "text": [
            "Looking in indexes: https://pypi.org/simple, https://us-python.pkg.dev/colab-wheels/public/simple/\n",
            "Collecting pyvis==0.3.1\n",
            "  Downloading pyvis-0.3.1.tar.gz (748 kB)\n",
            "\u001b[2K     \u001b[90m━━━━━━━━━━━━━━━━━━━━━━━━━━━━━━━━━━━━━━\u001b[0m \u001b[32m748.9/748.9 KB\u001b[0m \u001b[31m24.5 MB/s\u001b[0m eta \u001b[36m0:00:00\u001b[0m\n",
            "\u001b[?25h  Preparing metadata (setup.py) ... \u001b[?25l\u001b[?25hdone\n",
            "Requirement already satisfied: jinja2>=2.9.6 in /usr/local/lib/python3.9/dist-packages (from pyvis==0.3.1) (3.1.2)\n",
            "Requirement already satisfied: networkx>=1.11 in /usr/local/lib/python3.9/dist-packages (from pyvis==0.3.1) (3.0)\n",
            "Requirement already satisfied: ipython>=5.3.0 in /usr/local/lib/python3.9/dist-packages (from pyvis==0.3.1) (7.9.0)\n",
            "Collecting jsonpickle>=1.4.1\n",
            "  Downloading jsonpickle-3.0.1-py2.py3-none-any.whl (40 kB)\n",
            "\u001b[2K     \u001b[90m━━━━━━━━━━━━━━━━━━━━━━━━━━━━━━━━━━━━━━━\u001b[0m \u001b[32m40.5/40.5 KB\u001b[0m \u001b[31m675.0 kB/s\u001b[0m eta \u001b[36m0:00:00\u001b[0m\n",
            "\u001b[?25hRequirement already satisfied: backcall in /usr/local/lib/python3.9/dist-packages (from ipython>=5.3.0->pyvis==0.3.1) (0.2.0)\n",
            "Requirement already satisfied: traitlets>=4.2 in /usr/local/lib/python3.9/dist-packages (from ipython>=5.3.0->pyvis==0.3.1) (5.7.1)\n",
            "Requirement already satisfied: pickleshare in /usr/local/lib/python3.9/dist-packages (from ipython>=5.3.0->pyvis==0.3.1) (0.7.5)\n",
            "Requirement already satisfied: pexpect in /usr/local/lib/python3.9/dist-packages (from ipython>=5.3.0->pyvis==0.3.1) (4.8.0)\n",
            "Requirement already satisfied: setuptools>=18.5 in /usr/local/lib/python3.9/dist-packages (from ipython>=5.3.0->pyvis==0.3.1) (63.4.3)\n",
            "Requirement already satisfied: decorator in /usr/local/lib/python3.9/dist-packages (from ipython>=5.3.0->pyvis==0.3.1) (4.4.2)\n",
            "Requirement already satisfied: pygments in /usr/local/lib/python3.9/dist-packages (from ipython>=5.3.0->pyvis==0.3.1) (2.6.1)\n",
            "Requirement already satisfied: prompt-toolkit<2.1.0,>=2.0.0 in /usr/local/lib/python3.9/dist-packages (from ipython>=5.3.0->pyvis==0.3.1) (2.0.10)\n",
            "Collecting jedi>=0.10\n",
            "  Downloading jedi-0.18.2-py2.py3-none-any.whl (1.6 MB)\n",
            "\u001b[2K     \u001b[90m━━━━━━━━━━━━━━━━━━━━━━━━━━━━━━━━━━━━━━━━\u001b[0m \u001b[32m1.6/1.6 MB\u001b[0m \u001b[31m38.9 MB/s\u001b[0m eta \u001b[36m0:00:00\u001b[0m\n",
            "\u001b[?25hRequirement already satisfied: MarkupSafe>=2.0 in /usr/local/lib/python3.9/dist-packages (from jinja2>=2.9.6->pyvis==0.3.1) (2.1.2)\n",
            "Requirement already satisfied: parso<0.9.0,>=0.8.0 in /usr/local/lib/python3.9/dist-packages (from jedi>=0.10->ipython>=5.3.0->pyvis==0.3.1) (0.8.3)\n",
            "Requirement already satisfied: wcwidth in /usr/local/lib/python3.9/dist-packages (from prompt-toolkit<2.1.0,>=2.0.0->ipython>=5.3.0->pyvis==0.3.1) (0.2.6)\n",
            "Requirement already satisfied: six>=1.9.0 in /usr/local/lib/python3.9/dist-packages (from prompt-toolkit<2.1.0,>=2.0.0->ipython>=5.3.0->pyvis==0.3.1) (1.15.0)\n",
            "Requirement already satisfied: ptyprocess>=0.5 in /usr/local/lib/python3.9/dist-packages (from pexpect->ipython>=5.3.0->pyvis==0.3.1) (0.7.0)\n",
            "Building wheels for collected packages: pyvis\n",
            "  Building wheel for pyvis (setup.py) ... \u001b[?25l\u001b[?25hdone\n",
            "  Created wheel for pyvis: filename=pyvis-0.3.1-py3-none-any.whl size=755848 sha256=bfe1de7ad0dc9448e28b6262fc8cbe66bdfb47612fa88e71d3653f57b78f44d9\n",
            "  Stored in directory: /root/.cache/pip/wheels/55/7b/4b/dc896cf96ad07e0dc92d30e1984ab583c0d0feec208756e2b2\n",
            "Successfully built pyvis\n",
            "Installing collected packages: jsonpickle, jedi, pyvis\n",
            "Successfully installed jedi-0.18.2 jsonpickle-3.0.1 pyvis-0.3.1\n"
          ]
        }
      ]
    },
    {
      "cell_type": "code",
      "source": [
        "import random\n",
        "import pandas as pd\n",
        "from IPython.display import display, HTML\n",
        "import matplotlib.pyplot as plt\n",
        "\n",
        "class TrieNode:\n",
        "    def __init__(self, inputChar):\n",
        "        self.char = inputChar\n",
        "        self.end = False\n",
        "        self.children = {}\n",
        " \n",
        "class Trie():\n",
        "    def __init__(self, startingElements=None):\n",
        "        self.root = TrieNode(\"\")\n",
        "        if startingElements!=None:\n",
        "          for i in startingElements: self.insert(i)\n",
        "    def insert(self, word):\n",
        "        node = self.root\n",
        "        for char in word:\n",
        "            if char in node.children:\n",
        "                node = node.children[char]\n",
        "            else:\n",
        "                new_node = TrieNode(char)\n",
        "                node.children[char] = new_node\n",
        "                node = new_node\n",
        "        node.end = True      \n",
        "    def searchAndSplit(self, x):\n",
        "        node = self.root\n",
        "        output = [\"\", \"\"]\n",
        "        for char in x:\n",
        "            if char in node.children:\n",
        "                node = node.children[char]            \n",
        "            else:\n",
        "                return []        \n",
        "            output[1 if node.end else 0] += node.char\n",
        "        return output if node.end else []\n",
        "    def toGraph(self):\n",
        "      from pyvis.network import Network\n",
        "      g = Network(directed =True)      \n",
        "      g.show_buttons()\n",
        "\n",
        "      nodeIndex = 1\n",
        "      currentNode = 0\n",
        "      q = [self.root]      \n",
        "      g.add_node(currentNode, label=\"\", color=\"red\")\n",
        "      tempLabels = {0:\"\"}\n",
        "      while q!=[]:\n",
        "        n = q.pop(0)                     \n",
        "        for i in n.children.values():\n",
        "          tempLabels[nodeIndex] = tempLabels[currentNode]+i.char\n",
        "          g.add_node(nodeIndex, label=tempLabels[currentNode]+i.char, color=\"#48e073\" if i.end else \"blue\")\n",
        "          g.add_edge(currentNode, nodeIndex)\n",
        "          nodeIndex+=1\n",
        "          q.append(i)\n",
        "        currentNode+=1\n",
        "      g.show('nx.html')\n",
        "\n",
        "class MainGame:\n",
        "  def __init__(self):\n",
        "    random.seed(368) #311\n",
        "    self.objects = {\".\":[\".\",0],\"a\":[\"b\",1],\"b\":[\"c\",5],\"c\":[\"d\",25],\"d\":[\"e\",125],\"e\":[\"e\",625],\"1\":[\"1\",-25],\"2\":[\"3\",-5],\"3\":[\"4\",50],\"4\":[\"4\",500],\"x\":[\"x\",-50]}\n",
        "    self.checkAndLoadFiles()    \n",
        "    self.turn = 0\n",
        "    self.score = []\n",
        "    self.storage = \".\"\n",
        "    self.bigFoots = [[[i,j], 0, False] for i in range(len(self.matrix)) for j in range(len(self.matrix[0])) if self.matrix[i][j]==\"1\"]    \n",
        "    self.updateActual()\n",
        "    self.tr = Trie((''.join(chr(97+int(j)) for j in str(i))+str(k) for k in range(len(self.matrix[0])) for i in range(len(self.matrix))))\n",
        "    self.tr.insert(\"exit\")\n",
        "    self.tr.insert(\"*\")\n",
        "    self.tr.toGraph()\n",
        "\n",
        "  def checkAndLoadFiles(self):\n",
        "    try:\n",
        "      with open(\"tablero.txt\", \"r\") as f:\n",
        "        self.matrix=[]        \n",
        "        for i in f.readlines():\n",
        "          self.matrix.append([])\n",
        "          for j in i.replace(\"\\n\", \"\"):\n",
        "            if not j in self.objects: print(j); raise\n",
        "            self.matrix[-1].append(j)\n",
        "    except:\n",
        "      self.matrix = [random.sample([\".\"]*45+[\"a\"]*18+[\"b\"]*4+[\"c\"]*3+[\"1\"]*2, 6) for i in range(6)]\n",
        "      print(\"Error al cargar el fichero tablero, usando tablero aleatorio...\")      \n",
        "    try:\n",
        "      with open(\"secuencia.txt\", \"r\") as f:\n",
        "        self.seq=\"\"\n",
        "        for i in f.readline():\n",
        "          if i not in self.objects and i != \"w\": raise\n",
        "          self.seq += i\n",
        "    except:\n",
        "      print(\"Error al cargar el fichero secuencia, usando secuencia aleatoria...\")\n",
        "      self.seq = \"\"    \n",
        "\n",
        "  def main(self):\n",
        "    print(\"Que empiece el juego:\\U0001F609\")\n",
        "    self.showGame()    \n",
        "    while any(\".\" in x for x in self.matrix):\n",
        "      message = self.validarEntrada(input(\"Mover a casilla: \").lower().replace(\" \", \"\"))\n",
        "      while not message[0]: message = self.validarEntrada(input(\"Jugada errónea\\nMover a casilla: \").lower().replace(\" \", \"\"))\n",
        "\n",
        "      if \"\".join(message[1])==\"exit\": break\n",
        "      if \"\".join(message[1])==\"*\": self.storage=self.actual; self.actual = random.choice([\"a\"]*30+[\"b\"]*5+[\"c\"]*1+[\"1\"]*14+[\"w\"]*1); self.showGame(); continue;\n",
        "      coordinates = (lambda l: [int(\"\".join([str(ord(i)%97) for i in l[0]])), int(l[1])])(message[1])\n",
        "      if not ((self.matrix[coordinates[0]][coordinates[1]]==\".\") ^ (self.actual==\"w\")): print(\"Jugada errónea\"); continue\n",
        "\n",
        "      self.updateMatrix(coordinates)\n",
        "      self.updateActual()\n",
        "      self.turn+=1\n",
        "      self.bigFoots = [[i[0], i[1]+1, i[2]] for i in self.bigFoots]\n",
        "      \n",
        "      self.showGame()\n",
        "    print(\"Partida terminada, GG:\\U0001F44F\")\n",
        "    fig = plt.figure(figsize=(12, 12))\n",
        "    plt.plot(list(range(self.turn+1)), self.score)\n",
        "    plt.show()\n",
        "  \n",
        "  def updateActual(self):\n",
        "    self.actual = random.choice([\"a\"]*30+[\"b\"]*5+[\"c\"]*1+[\"1\"]*14+[\"w\"]*1) if self.seq==\"\" else self.seq[self.turn%len(self.seq)]\n",
        "  \n",
        "  def updateMatrix(self, coordinates):\n",
        "    if self.actual==\"w\": self.matrix[coordinates[0]][coordinates[1]] = \".\"; self.deleteBigFoot(coordinates); return;\n",
        "    self.matrix[coordinates[0]][coordinates[1]] = self.actual\n",
        "    if self.actual==\"1\": self.bigFoots.append([coordinates, 0, False]); self.updateBigFoots(); return;\n",
        "\n",
        "    self.checkAndColapse(coordinates)\n",
        "    self.updateBigFoots()\n",
        "\n",
        "  def checkAndColapse(self, coordinates):\n",
        "    g = (self.getGroup(coordinates), self.matrix[coordinates[0]][coordinates[1]])\n",
        "    if g[1]==\"2\": coordinates = max(g[0], key=lambda x:[k for k in self.bigFoots if k[0]==x][0][1])\n",
        "    while len(g[0])>2:\n",
        "      for i in g[0]: \n",
        "        if self.matrix[i[0]][i[1]] == \"2\": self.deleteBigFoot(i);\n",
        "        self.matrix[i[0]][i[1]] = \".\"\n",
        "      self.matrix[coordinates[0]][coordinates[1]] = self.objects[g[1]][0]\n",
        "      g = (self.getGroup(coordinates), self.matrix[coordinates[0]][coordinates[1]])\n",
        "  \n",
        "  def deleteBigFoot(self, coordinates):\n",
        "    for i in range(len(self.bigFoots)):\n",
        "      if self.bigFoots[i][0] == coordinates: del self.bigFoots[i]; break;\n",
        "\n",
        "  def updateBigFoots(self):\n",
        "    for i in enumerate(self.bigFoots):\n",
        "      n = i[1][:]\n",
        "      if not n[2] and n[1]>0:\n",
        "        for j in (lambda l:[k for k in l if k[0]>=0 and k[1]>=0])(([n[0][0]-1, n[0][1]], [n[0][0], n[0][1]+1], [n[0][0]+1, n[0][1]], [n[0][0], n[0][1]-1])):\n",
        "          try:\n",
        "            if self.matrix[j[0]][j[1]]==\".\": self.matrix[j[0]][j[1]]=\"1\"; self.matrix[n[0][0]][n[0][1]]=\"x\" if n[1]>10 else \".\"; self.bigFoots[i[0]][0]=j[:]; break;\n",
        "          except: pass\n",
        "\n",
        "      if n[0]==self.bigFoots[i[0]][0]: \n",
        "        g = self.getGroup(n[0], True)\n",
        "        if not \".\" in (self.matrix[k[0]][k[1]] for k in g):\n",
        "          for j in g: self.matrix[j[0]][j[1]] = \"2\"; bfIndex = [k for k in range(len(self.bigFoots)) if self.bigFoots[k][0]==j][0]; self.bigFoots[bfIndex][2]=True;  \n",
        "          self.checkAndColapse(n[0])\n",
        "\n",
        "  def getGroup(self, coordinates, bigFootMode=False):    \n",
        "    self.visitedMatrix = [[False]*len(self.matrix[0]) for i in range(len(self.matrix))]\n",
        "    output = [coordinates]\n",
        "    q = [coordinates]\n",
        "    while q!=[]:\n",
        "      n = q.pop(0)\n",
        "      self.visitedMatrix[n[0]][n[1]] = True\n",
        "      for i in (lambda l:[j for j in l if j[0]>=0 and j[1]>=0])([[n[0]-1, n[1]], [n[0], n[1]+1], [n[0]+1, n[1]], [n[0], n[1]-1]]):\n",
        "        try:\n",
        "          if (not self.visitedMatrix[i[0]][i[1]]) and (self.matrix[i[0]][i[1]]==self.matrix[coordinates[0]][coordinates[1]] or (bigFootMode and self.matrix[i[0]][i[1]]==\".\")): q.append(i); output.append(i);\n",
        "        except:\n",
        "          pass\n",
        "    return output\n",
        "\n",
        "  def validarEntrada(self, s):\n",
        "    s = self.tr.searchAndSplit(s)\n",
        "    return (True if s else False, s)\n",
        "\n",
        "  def showGame(self):\n",
        "    df = pd.DataFrame(self.matrix, columns=list(range(len(self.matrix[0]))), index=[''.join(chr(65+int(j)) for j in str(i)) for i in range(len(self.matrix))])\n",
        "    display(HTML(df.to_html()))\n",
        "    self.score.append(sum(self.objects[j][1] for i in self.matrix for j in i))\n",
        "    print(f\"\\nTurno: {self.turn} Puntos:{self.score[-1]}\\nAlmacen: [{self.storage}] Actual: [{self.actual}]\")\n",
        "\n",
        "if __name__==\"__main__\":\n",
        "  g = MainGame()\n",
        "  g.main()"
      ],
      "metadata": {
        "id": "CB4Ljmu7PygY",
        "colab": {
          "base_uri": "https://localhost:8080/",
          "height": 1000
        },
        "outputId": "517ccdb9-9832-4586-ffac-5aa6029e3a69"
      },
      "execution_count": 25,
      "outputs": [
        {
          "output_type": "stream",
          "name": "stdout",
          "text": [
            "Que empiece el juego:😉\n"
          ]
        },
        {
          "output_type": "display_data",
          "data": {
            "text/plain": [
              "<IPython.core.display.HTML object>"
            ],
            "text/html": [
              "<table border=\"1\" class=\"dataframe\">\n",
              "  <thead>\n",
              "    <tr style=\"text-align: right;\">\n",
              "      <th></th>\n",
              "      <th>0</th>\n",
              "      <th>1</th>\n",
              "      <th>2</th>\n",
              "      <th>3</th>\n",
              "      <th>4</th>\n",
              "      <th>5</th>\n",
              "    </tr>\n",
              "  </thead>\n",
              "  <tbody>\n",
              "    <tr>\n",
              "      <th>A</th>\n",
              "      <td>a</td>\n",
              "      <td>a</td>\n",
              "      <td>a</td>\n",
              "      <td>.</td>\n",
              "      <td>a</td>\n",
              "      <td>a</td>\n",
              "    </tr>\n",
              "    <tr>\n",
              "      <th>B</th>\n",
              "      <td>.</td>\n",
              "      <td>.</td>\n",
              "      <td>.</td>\n",
              "      <td>.</td>\n",
              "      <td>.</td>\n",
              "      <td>.</td>\n",
              "    </tr>\n",
              "    <tr>\n",
              "      <th>C</th>\n",
              "      <td>.</td>\n",
              "      <td>.</td>\n",
              "      <td>.</td>\n",
              "      <td>.</td>\n",
              "      <td>b</td>\n",
              "      <td>.</td>\n",
              "    </tr>\n",
              "    <tr>\n",
              "      <th>D</th>\n",
              "      <td>b</td>\n",
              "      <td>a</td>\n",
              "      <td>c</td>\n",
              "      <td>.</td>\n",
              "      <td>.</td>\n",
              "      <td>.</td>\n",
              "    </tr>\n",
              "    <tr>\n",
              "      <th>E</th>\n",
              "      <td>.</td>\n",
              "      <td>.</td>\n",
              "      <td>.</td>\n",
              "      <td>.</td>\n",
              "      <td>.</td>\n",
              "      <td>.</td>\n",
              "    </tr>\n",
              "    <tr>\n",
              "      <th>F</th>\n",
              "      <td>.</td>\n",
              "      <td>.</td>\n",
              "      <td>.</td>\n",
              "      <td>1</td>\n",
              "      <td>b</td>\n",
              "      <td>a</td>\n",
              "    </tr>\n",
              "  </tbody>\n",
              "</table>"
            ]
          },
          "metadata": {}
        },
        {
          "output_type": "stream",
          "name": "stdout",
          "text": [
            "\n",
            "Turno: 0 Puntos:22\n",
            "Almacen: [.] Actual: [a]\n",
            "Mover a casilla: exit\n",
            "Partida terminada, GG:👏\n"
          ]
        },
        {
          "output_type": "display_data",
          "data": {
            "text/plain": [
              "<Figure size 864x864 with 1 Axes>"
            ],
            "image/png": "[encoded data removed]"
          },
          "metadata": {
            "needs_background": "light"
          }
        }
      ]
    },
    {
      "cell_type": "code",
      "source": [
        "type(random.choice([\"a\"]*30+[\"b\"]*5+[\"c\"]*1+[\"1\"]*6+[\"w\"]*1))"
      ],
      "metadata": {
        "id": "x7hdzqmaX5VS",
        "outputId": "36171e19-9581-4e3b-c574-fc262a9c69a6",
        "colab": {
          "base_uri": "https://localhost:8080/"
        }
      },
      "execution_count": 17,
      "outputs": [
        {
          "output_type": "execute_result",
          "data": {
            "text/plain": [
              "str"
            ]
          },
          "metadata": {},
          "execution_count": 17
        }
      ]
    }
  ]
}