{
  "nbformat": 4,
  "nbformat_minor": 0,
  "metadata": {
    "colab": {
      "provenance": [],
      "include_colab_link": true
    },
    "kernelspec": {
      "name": "python3",
      "display_name": "Python 3"
    },
    "language_info": {
      "name": "python"
    }
  },
  "cells": [
    {
      "cell_type": "markdown",
      "metadata": {
        "id": "view-in-github",
        "colab_type": "text"
      },
      "source": [
        "<a href=\"https://colab.research.google.com/github/cardstdani/practica-par/blob/main/PracticaParadigmas.ipynb\" target=\"_parent\"><img src=\"https://colab.research.google.com/assets/colab-badge.svg\" alt=\"Open In Colab\"/></a>"
      ]
    },
    {
      "cell_type": "markdown",
      "source": [
        "**Práctica Paradigmas 1**"
      ],
      "metadata": {
        "id": "wImBr3cEO8zm"
      }
    },
    {
      "cell_type": "code",
      "source": [
        "!pip install pyvis==0.3.1"
      ],
      "metadata": {
        "id": "HXLcCQxcSrV_"
      },
      "execution_count": null,
      "outputs": []
    },
    {
      "cell_type": "code",
      "source": [
        "import random\n",
        "import pandas as pd\n",
        "from IPython.display import display, HTML\n",
        "\n",
        "class TrieNode:\n",
        "    def __init__(self, inputChar):\n",
        "        self.char = inputChar\n",
        "        self.end = False\n",
        "        self.children = {}\n",
        " \n",
        "class Trie():\n",
        "    def __init__(self, startingElements=None):\n",
        "        self.root = TrieNode(\"\")\n",
        "        if startingElements!=None:\n",
        "          for i in startingElements: self.insert(i)\n",
        "    def insert(self, word):\n",
        "        node = self.root\n",
        "        for char in word:\n",
        "            if char in node.children:\n",
        "                node = node.children[char]\n",
        "            else:\n",
        "                new_node = TrieNode(char)\n",
        "                node.children[char] = new_node\n",
        "                node = new_node\n",
        "        node.end = True      \n",
        "    def searchAndSplit(self, x):\n",
        "        node = self.root\n",
        "        output = [\"\", \"\"]\n",
        "        for char in x:\n",
        "            if char in node.children:\n",
        "                node = node.children[char]            \n",
        "            else:\n",
        "                return []        \n",
        "            output[1 if node.end else 0] += node.char\n",
        "        return output if node.end else []\n",
        "    def toGraph(self):\n",
        "      from pyvis.network import Network\n",
        "      g = Network(directed =True)      \n",
        "      g.show_buttons()\n",
        "\n",
        "      nodeIndex = 1\n",
        "      currentNode = 0\n",
        "      q = [self.root]      \n",
        "      g.add_node(currentNode, label=\"\", color=\"red\")\n",
        "      tempLabels = {0:\"\"}\n",
        "      while q!=[]:\n",
        "        n = q.pop(0)                     \n",
        "        for i in n.children.values():\n",
        "          tempLabels[nodeIndex] = tempLabels[currentNode]+i.char\n",
        "          g.add_node(nodeIndex, label=tempLabels[currentNode]+i.char, color=\"#48e073\" if i.end else \"blue\")\n",
        "          g.add_edge(currentNode, nodeIndex)\n",
        "          nodeIndex+=1\n",
        "          q.append(i)\n",
        "        currentNode+=1\n",
        "      g.show('nx.html')\n",
        "\n",
        "class MainGame:\n",
        "  def __init__(self):\n",
        "    self.matrix = [random.sample([\".\"]*45+[\"a\"]*18+[\"b\"]*4+[\"c\"]*3+[\"1\"]*2, 6) for i in range(6)]\n",
        "    self.turn = 0\n",
        "    self.score = 0\n",
        "    self.storage = \".\"\n",
        "    self.actual = random.choice([\"a\"]*30+[\"b\"]*5+[\"c\"]*1+[\"1\"]*6+[\"w\"]*1)\n",
        "    self.tr = Trie((''.join(chr(97+int(j)) for j in str(i))+str(k) for k in range(len(self.matrix[0])) for i in range(len(self.matrix))))\n",
        "    self.tr.insert(\"exit\")\n",
        "    self.tr.insert(\"*\")\n",
        "    self.tr.toGraph()\n",
        "\n",
        "  def main(self):\n",
        "    print(\"Que empiece el juego:\\U0001F609\")\n",
        "    self.showGame()    \n",
        "    while any(\".\" in x for x in self.matrix):\n",
        "      message = self.validarEntrada(input(\"Mover a casilla: \").lower().replace(\" \", \"\"))\n",
        "      while not message[0]: message = self.validarEntrada(input(\"Jugada errónea\\nMover a casilla: \").lower().replace(\" \", \"\"))\n",
        "      if \"\".join(message[1])==\"exit\": break\n",
        "      if \"\".join(message[1])==\"*\": self.storage=self.actual; self.showGame(); continue\n",
        "      coordinates = (lambda l: [int(\"\".join([str(ord(i)%97) for i in l[0]])), int(l[1])])(message[1])\n",
        "      #check\n",
        "      print(coordinates) \n",
        "\n",
        "      self.updateMatrix()\n",
        "      self.updateActual()\n",
        "      self.turn+=1\n",
        "      self.showGame()\n",
        "  \n",
        "  def updateMatrix(self):\n",
        "    self.visitedMatrix = [[False]*len(self.matrix[0]) for i in range(len(self.matrix))]\n",
        "\n",
        "  def updateActual(self):\n",
        "    self.actual = random.choice([\"a\"]*30+[\"b\"]*5+[\"c\"]*1+[\"1\"]*6+[\"w\"]*1)   \n",
        "  \n",
        "  def validarEntrada(self, s):\n",
        "    s = self.tr.searchAndSplit(s)\n",
        "    return (True if s else False, s)\n",
        "\n",
        "  def showGame(self):\n",
        "    df = pd.DataFrame(self.matrix, columns=list(range(len(self.matrix[0]))), index=[''.join(chr(65+int(j)) for j in str(i)) for i in range(len(self.matrix))])\n",
        "    display(HTML(df.to_html()))\n",
        "    print(f\"\\nTurno: {self.turn} Puntos:{self.score}\\nAlmacen: [{self.storage}] Actual: [{self.actual}]\")\n",
        "\n",
        "if __name__==\"__main__\":\n",
        "  g = MainGame()\n",
        "  g.main()"
      ],
      "metadata": {
        "id": "CB4Ljmu7PygY",
        "colab": {
          "base_uri": "https://localhost:8080/",
          "height": 324
        },
        "outputId": "ca92793f-610c-4f2b-ac45-9e6d6207d2c3"
      },
      "execution_count": 47,
      "outputs": [
        {
          "output_type": "stream",
          "name": "stdout",
          "text": [
            "Que empiece el juego:😉\t\n"
          ]
        },
        {
          "output_type": "display_data",
          "data": {
            "text/plain": [
              "<IPython.core.display.HTML object>"
            ],
            "text/html": [
              "<table border=\"1\" class=\"dataframe\">\n",
              "  <thead>\n",
              "    <tr style=\"text-align: right;\">\n",
              "      <th></th>\n",
              "      <th>0</th>\n",
              "      <th>1</th>\n",
              "      <th>2</th>\n",
              "      <th>3</th>\n",
              "      <th>4</th>\n",
              "      <th>5</th>\n",
              "    </tr>\n",
              "  </thead>\n",
              "  <tbody>\n",
              "    <tr>\n",
              "      <th>A</th>\n",
              "      <td>.</td>\n",
              "      <td>.</td>\n",
              "      <td>c</td>\n",
              "      <td>.</td>\n",
              "      <td>.</td>\n",
              "      <td>.</td>\n",
              "    </tr>\n",
              "    <tr>\n",
              "      <th>B</th>\n",
              "      <td>a</td>\n",
              "      <td>c</td>\n",
              "      <td>a</td>\n",
              "      <td>.</td>\n",
              "      <td>a</td>\n",
              "      <td>.</td>\n",
              "    </tr>\n",
              "    <tr>\n",
              "      <th>C</th>\n",
              "      <td>.</td>\n",
              "      <td>.</td>\n",
              "      <td>a</td>\n",
              "      <td>.</td>\n",
              "      <td>a</td>\n",
              "      <td>a</td>\n",
              "    </tr>\n",
              "    <tr>\n",
              "      <th>D</th>\n",
              "      <td>.</td>\n",
              "      <td>b</td>\n",
              "      <td>a</td>\n",
              "      <td>c</td>\n",
              "      <td>.</td>\n",
              "      <td>.</td>\n",
              "    </tr>\n",
              "    <tr>\n",
              "      <th>E</th>\n",
              "      <td>.</td>\n",
              "      <td>.</td>\n",
              "      <td>.</td>\n",
              "      <td>c</td>\n",
              "      <td>.</td>\n",
              "      <td>.</td>\n",
              "    </tr>\n",
              "    <tr>\n",
              "      <th>F</th>\n",
              "      <td>.</td>\n",
              "      <td>.</td>\n",
              "      <td>.</td>\n",
              "      <td>.</td>\n",
              "      <td>.</td>\n",
              "      <td>.</td>\n",
              "    </tr>\n",
              "  </tbody>\n",
              "</table>"
            ]
          },
          "metadata": {}
        },
        {
          "name": "stdout",
          "output_type": "stream",
          "text": [
            "\n",
            "Turno: 0 Puntos:0\n",
            "Almacen: [.] Actual: [1]\n",
            "Mover a casilla: exit\n"
          ]
        }
      ]
    }
  ]
}