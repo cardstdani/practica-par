{
  "nbformat": 4,
  "nbformat_minor": 0,
  "metadata": {
    "colab": {
      "provenance": [],
      "include_colab_link": true
    },
    "kernelspec": {
      "name": "python3",
      "display_name": "Python 3"
    },
    "language_info": {
      "name": "python"
    }
  },
  "cells": [
    {
      "cell_type": "markdown",
      "metadata": {
        "id": "view-in-github",
        "colab_type": "text"
      },
      "source": [
        "<a href=\"https://colab.research.google.com/github/cardstdani/practica-par/blob/main/PracticaParadigmas.ipynb\" target=\"_parent\"><img src=\"https://colab.research.google.com/assets/colab-badge.svg\" alt=\"Open In Colab\"/></a>"
      ]
    },
    {
      "cell_type": "markdown",
      "source": [
        "**Práctica Paradigmas 1**"
      ],
      "metadata": {
        "id": "wImBr3cEO8zm"
      }
    },
    {
      "cell_type": "code",
      "source": [
        "!pip install pyvis==0.3.1"
      ],
      "metadata": {
        "id": "HXLcCQxcSrV_"
      },
      "execution_count": null,
      "outputs": []
    },
    {
      "cell_type": "code",
      "source": [
        "import random\n",
        "import math\n",
        "import copy\n",
        "import pandas as pd\n",
        "import numpy as np\n",
        "from IPython.display import display, HTML\n",
        "import matplotlib.pyplot as plt\n",
        "\n",
        "class TrieNode:\n",
        "    def __init__(self, inputChar):\n",
        "        self.char = inputChar\n",
        "        self.end = False\n",
        "        self.children = {}\n",
        " \n",
        "class Trie():\n",
        "    def __init__(self, startingElements=None):\n",
        "        self.root = TrieNode(\"\")\n",
        "        if startingElements!=None:\n",
        "          for i in startingElements: self.insert(i)\n",
        "    def insert(self, word):\n",
        "        node = self.root\n",
        "        for char in word:\n",
        "            if char in node.children:\n",
        "                node = node.children[char]\n",
        "            else:\n",
        "                new_node = TrieNode(char)\n",
        "                node.children[char] = new_node\n",
        "                node = new_node\n",
        "        node.end = True      \n",
        "    def searchAndSplit(self, x):\n",
        "        node = self.root\n",
        "        output = [\"\", \"\"]\n",
        "        for char in x:\n",
        "            if char in node.children:\n",
        "                node = node.children[char]            \n",
        "            else:\n",
        "                return []        \n",
        "            output[1 if node.end else 0] += node.char\n",
        "        return output if node.end else []\n",
        "    def toGraph(self):\n",
        "      from pyvis.network import Network\n",
        "      g = Network(directed =True)      \n",
        "      g.show_buttons()\n",
        "\n",
        "      nodeIndex = 1\n",
        "      currentNode = 0\n",
        "      q = [self.root]      \n",
        "      g.add_node(currentNode, label=\"\", color=\"red\")\n",
        "      tempLabels = {0:\"\"}\n",
        "      while q!=[]:\n",
        "        n = q.pop(0)                     \n",
        "        for i in n.children.values():\n",
        "          tempLabels[nodeIndex] = tempLabels[currentNode]+i.char\n",
        "          g.add_node(nodeIndex, label=tempLabels[currentNode]+i.char, color=\"#48e073\" if i.end else \"blue\")\n",
        "          g.add_edge(currentNode, nodeIndex)\n",
        "          nodeIndex+=1\n",
        "          q.append(i)\n",
        "        currentNode+=1\n",
        "      g.show('nx.html')\n",
        "\n",
        "class MainGame:\n",
        "  def __init__(self):\n",
        "    #random.seed(368) #311\n",
        "    self.objects = {\".\":[\".\",0],\"a\":[\"b\",1],\"b\":[\"c\",5],\"c\":[\"d\",25],\"d\":[\"e\",125],\"e\":[\"e\",625],\"1\":[\"1\",-25],\"2\":[\"3\",-5],\"3\":[\"4\",50],\"4\":[\"4\",500],\"x\":[\"x\",-50]}\n",
        "    self.checkAndLoadFiles()    \n",
        "    self.turn = 0\n",
        "    self.score = []\n",
        "    self.storage = \".\"\n",
        "    self.bigFoots = [[(i,j), 0, False] for i in range(len(self.matrix)) for j in range(len(self.matrix[0])) if self.matrix[i][j]==\"1\"]\n",
        "    self.updateActual()\n",
        "    self.tr = Trie((''.join(chr(97+int(j)) for j in str(i))+str(k) for k in range(len(self.matrix[0])) for i in range(len(self.matrix))))\n",
        "    self.tr.insert(\"exit\")\n",
        "    self.tr.insert(\"hint\")\n",
        "    self.tr.insert(\"*\")\n",
        "    self.tr.toGraph()\n",
        "\n",
        "  def checkAndLoadFiles(self):\n",
        "    try:\n",
        "      with open(\"tablero.txt\", \"r\") as f:\n",
        "        self.matrix=[]        \n",
        "        for i in f.readlines():\n",
        "          self.matrix.append([])\n",
        "          for j in i.replace(\"\\n\", \"\"):\n",
        "            if not j in self.objects: raise\n",
        "            self.matrix[-1].append(j)\n",
        "    except:\n",
        "      self.matrix = [random.sample([\".\"]*45+[\"a\"]*18+[\"b\"]*4+[\"c\"]*3+[\"1\"]*2, 10) for i in range(10)]\n",
        "      print(\"Error al cargar el fichero tablero, usando tablero aleatorio...\")      \n",
        "    try:\n",
        "      with open(\"secuencia.txt\", \"r\") as f:\n",
        "        self.seq=\"\"\n",
        "        for i in f.readline():\n",
        "          if i not in self.objects and i != \"w\": raise\n",
        "          self.seq += i\n",
        "    except:\n",
        "      self.seq = \"\"\n",
        "      print(\"Error al cargar el fichero secuencia, usando secuencia aleatoria...\")      \n",
        "\n",
        "  def main(self):\n",
        "    print(\"Que empiece el juego:\\U0001F609\")\n",
        "    self.showGame()    \n",
        "    while any(\".\" in x for x in self.matrix):\n",
        "      message = self.validarEntrada(input(\"Mover a casilla: \").lower().replace(\" \", \"\"))\n",
        "      while not message[0]: message = self.validarEntrada(input(\"Jugada errónea\\nMover a casilla: \").lower().replace(\" \", \"\"))\n",
        "\n",
        "      if \"\".join(message[1])==\"exit\": break\n",
        "      if \"\".join(message[1])==\"*\": self.storage=self.actual; self.updateActual(); self.showGame(); continue;\n",
        "      coordinates = (lambda l: (int(\"\".join([str(ord(i)%97) for i in l[0]])), int(l[1])))(message[1]) if \"\".join(message[1])!=\"hint\" else self.getHint()\n",
        "      if not ((self.matrix[coordinates[0]][coordinates[1]]==\".\") ^ (self.actual==\"w\")): print(\"Jugada errónea\"); continue;\n",
        "\n",
        "      self.updateMatrix(coordinates)\n",
        "      self.updateActual()\n",
        "      self.turn+=1\n",
        "      self.bigFoots = [[i[0], i[1]+1, i[2]] for i in self.bigFoots]\n",
        "      \n",
        "      self.showGame()\n",
        "    print(\"Partida terminada, GG:\\U0001F44F\")\n",
        "    self.plotScore()\n",
        "\n",
        "  def getHint(self):\n",
        "    prevObjs = sum(1 - self.objects[b][1] for a in self.matrix for b in a if b!=\".\")\n",
        "    tempValues=[-math.inf, (0,0)]\n",
        "    #debugValues = [[0]*len(self.matrix[0]) for i in range(len(self.matrix))]\n",
        "    for i in range(len(self.matrix)):\n",
        "      for j in range(len(self.matrix[0])):\n",
        "        if (self.matrix[i][j] == \".\") ^ (self.actual==\"w\"): \n",
        "          newObj = copy.deepcopy(g)\n",
        "          newObj.updateMatrix((i,j))\n",
        "          newScore = sum(sum(self.objects[b][1] - (b != \".\" or 0) for b in a) for a in newObj.matrix) + prevObjs - 12*newObj.minDistanceToElement((i,j), [\"1\", \"2\", newObj.matrix[i][j]])\n",
        "          if newScore>tempValues[0]: tempValues = [newScore, (i,j)]\n",
        "          #debugValues[i][j] = newScore\n",
        "    #plt.imshow(debugValues, cmap='hot', interpolation='nearest')\n",
        "    #plt.show()\n",
        "    return tempValues[1]\n",
        "  \n",
        "  def plotScore(self):\n",
        "    x = np.array(list(range(len(self.score))))\n",
        "    m,c = self.linReg(x, self.score)\n",
        "    fig = plt.figure(figsize=(12, 12))\n",
        "    plt.plot(x, self.score)\n",
        "    plt.plot(x, m*x + c)\n",
        "    plt.show()\n",
        "  \n",
        "  def linReg(self, x, y):\n",
        "    return np.linalg.lstsq(np.vstack([x, np.ones(len(x))]).T, y)[0]\n",
        "\n",
        "  def minDistanceToElement(self, coordinates, elements):\n",
        "    visited = set()\n",
        "    q = [(coordinates, 0)]\n",
        "    while q:\n",
        "        n, distance = q.pop(0)\n",
        "        if n in visited:\n",
        "            continue\n",
        "        visited.add(n)\n",
        "        for i, j in ((n[0]-1, n[1]), (n[0]+1, n[1]), (n[0], n[1]-1), (n[0], n[1]+1)):\n",
        "            if i < 0 or i >= len(self.matrix) or j < 0 or j >= len(self.matrix[0]): continue\n",
        "            if self.matrix[i][j] in elements: return distance+1\n",
        "            q.append(((i,j), distance+1))\n",
        "    return 0   \n",
        "  \n",
        "  def updateActual(self):\n",
        "    self.actual = random.choice([\"a\"]*30+[\"b\"]*5+[\"c\"]*1+[\"1\"]*6+[\"w\"]*1) if self.seq==\"\" else self.seq[self.turn%len(self.seq)]\n",
        "  \n",
        "  def updateMatrix(self, coordinates):\n",
        "    if self.actual==\"w\": self.matrix[coordinates[0]][coordinates[1]] = \".\"; self.deleteBigFoot(coordinates); return;\n",
        "    self.matrix[coordinates[0]][coordinates[1]] = self.actual\n",
        "    if self.actual==\"1\": self.bigFoots.append([coordinates, 0, False]); self.updateBigFoots(); return;\n",
        "\n",
        "    self.checkAndColapse(coordinates)\n",
        "    self.updateBigFoots()\n",
        "\n",
        "  def checkAndColapse(self, coordinates):\n",
        "    g = (self.getGroup(coordinates), self.matrix[coordinates[0]][coordinates[1]])\n",
        "    if g[1]==\"2\": coordinates = max(g[0], key=lambda x:[k for k in self.bigFoots if k[0]==x][0][1])\n",
        "    while len(g[0])>2:\n",
        "      for i in g[0]: \n",
        "        if self.matrix[i[0]][i[1]] == \"2\": self.deleteBigFoot(i);\n",
        "        self.matrix[i[0]][i[1]] = \".\"\n",
        "      self.matrix[coordinates[0]][coordinates[1]] = self.objects[g[1]][0]\n",
        "      g = (self.getGroup(coordinates), self.matrix[coordinates[0]][coordinates[1]])\n",
        "  \n",
        "  def deleteBigFoot(self, coordinates):\n",
        "    for i in range(len(self.bigFoots)):\n",
        "      if self.bigFoots[i][0] == coordinates: del self.bigFoots[i]; break;\n",
        "\n",
        "  def updateBigFoots(self):\n",
        "    for i in enumerate(self.bigFoots):\n",
        "      n = i[1][:]\n",
        "      if not n[2] and n[1]>0:\n",
        "        for j in (lambda l:[k for k in l if k[0]>=0 and k[1]>=0])(((n[0][0]-1, n[0][1]), (n[0][0], n[0][1]+1), (n[0][0]+1, n[0][1]), (n[0][0], n[0][1]-1))):\n",
        "          try:\n",
        "            if self.matrix[j[0]][j[1]]==\".\": self.matrix[j[0]][j[1]]=\"1\"; self.matrix[n[0][0]][n[0][1]]=\"x\" if n[1]>10 else \".\"; self.bigFoots[i[0]][0]=j[:]; break;\n",
        "          except: pass\n",
        "\n",
        "      if n[0]==self.bigFoots[i[0]][0]: \n",
        "        g = self.getGroup(n[0], True)\n",
        "        if not \".\" in (self.matrix[k[0]][k[1]] for k in g):\n",
        "          for j in g: self.matrix[j[0]][j[1]] = \"2\"; bfIndex = [k for k in range(len(self.bigFoots)) if self.bigFoots[k][0]==j][0]; self.bigFoots[bfIndex][2]=True;  \n",
        "          self.checkAndColapse(n[0])\n",
        "\n",
        "  def getGroup(self, coordinates, bigFootMode=False):    \n",
        "    visited = set()\n",
        "    output = [coordinates]\n",
        "    q = [coordinates]\n",
        "    while q!=[]:\n",
        "      n = q.pop(0)\n",
        "      visited.add(n)\n",
        "      for i in ((n[0]-1, n[1]), (n[0], n[1]+1), (n[0]+1, n[1]), (n[0], n[1]-1)):\n",
        "        if i[0] < 0 or i[0] >= len(self.matrix) or i[1] < 0 or i[1] >= len(self.matrix[0]): continue\n",
        "        if (not i in visited) and (self.matrix[i[0]][i[1]]==self.matrix[coordinates[0]][coordinates[1]] or (bigFootMode and self.matrix[i[0]][i[1]]==\".\")): q.append(i); output.append(i);\n",
        "    return output\n",
        "\n",
        "  def validarEntrada(self, s):\n",
        "    s = self.tr.searchAndSplit(s)\n",
        "    return (True if s else False, s)\n",
        "\n",
        "  def showGame(self):\n",
        "    df = pd.DataFrame(self.matrix, columns=list(range(len(self.matrix[0]))), index=[''.join(chr(65+int(j)) for j in str(i)) for i in range(len(self.matrix))])\n",
        "    display(HTML(df.to_html()))\n",
        "    self.score.append(sum(self.objects[j][1] for i in self.matrix for j in i))\n",
        "    print(f\"\\nTurno: {self.turn} Puntos:{self.score[-1]}\\nAlmacen: [{self.storage}] Actual: [{self.actual}]\")\n",
        "\n",
        "if __name__==\"__main__\":\n",
        "  g = MainGame()\n",
        "  g.main()  "
      ],
      "metadata": {
        "id": "CB4Ljmu7PygY"
      },
      "execution_count": null,
      "outputs": []
    },
    {
      "cell_type": "markdown",
      "source": [
        "**Bot Encoding**"
      ],
      "metadata": {
        "id": "_Z1je8QiFTEu"
      }
    },
    {
      "cell_type": "code",
      "source": [
        "import pickle\n",
        "import urllib\n",
        "\n",
        "with urllib.request.urlopen(\"https://github.com/cardstdani/practica-par/blob/main/dataset.txt?raw=true\") as fp:\n",
        "  train_dataset=pickle.load(fp)"
      ],
      "metadata": {
        "id": "AtpiKZ2vluQA"
      },
      "execution_count": null,
      "outputs": []
    },
    {
      "cell_type": "code",
      "source": [
        "len(train_dataset)"
      ],
      "metadata": {
        "id": "2xD2v_5kPSSL",
        "outputId": "678a8e1d-b0d7-47a0-b0c5-14bca790dce9",
        "colab": {
          "base_uri": "https://localhost:8080/"
        }
      },
      "execution_count": null,
      "outputs": [
        {
          "output_type": "execute_result",
          "data": {
            "text/plain": [
              "10368"
            ]
          },
          "metadata": {},
          "execution_count": 63
        }
      ]
    },
    {
      "cell_type": "code",
      "source": [
        "with open('dataset.txt', 'wb') as fp:\n",
        "    pickle.dump(train_dataset, fp)"
      ],
      "metadata": {
        "id": "qCfGRtYYQJfR"
      },
      "execution_count": null,
      "outputs": []
    },
    {
      "cell_type": "code",
      "source": [
        "import tensorflow as tf\n",
        "\n",
        "model = tf.keras.Sequential([\n",
        "    tf.keras.layers.Conv2D(128, (4, 4), activation='relu', input_shape=(11, 10, 1)),\n",
        "    tf.keras.layers.Dense(128, activation = tf.keras.activations.relu),\n",
        "    tf.keras.layers.Conv2D(64, (3, 3), activation='relu'),\n",
        "    tf.keras.layers.Conv2D(32, (3, 3), activation='relu'),\n",
        "    tf.keras.layers.Conv2D(16, (3, 3), activation='relu'),\n",
        "    tf.keras.layers.GlobalMaxPooling2D(),\n",
        "    tf.keras.layers.BatchNormalization(),\n",
        "    tf.keras.layers.Dense(256, activation = tf.keras.activations.relu, kernel_regularizer=tf.keras.regularizers.l1(0.04), activity_regularizer=tf.keras.regularizers.l1(0.04),  kernel_initializer='he_normal'),\n",
        "    #tf.keras.layers.Dropout(0.4),\n",
        "    tf.keras.layers.Dense(128, activation = tf.keras.activations.relu),\n",
        "    tf.keras.layers.Dense(112, activation = tf.keras.activations.relu),\n",
        "    tf.keras.layers.Dense(100, activation=tf.keras.activations.tanh)\n",
        "])\n",
        "\n",
        "model.compile(optimizer=tf.keras.optimizers.Adam(learning_rate=0.001), loss=tf.keras.losses.SparseCategoricalCrossentropy(from_logits=True), metrics=['accuracy'])\n",
        "\n",
        "epochs = 100\n",
        "lrCallback = tf.keras.callbacks.LearningRateScheduler(lambda epoch: 1e-3 * 10 ** (epoch / 30))\n",
        "stepDecay = tf.keras.callbacks.LearningRateScheduler(lambda epoch: 0.1 * 0.1**math.floor(epoch / 6))\n",
        "\n",
        "f = lambda x:[[ord(j) for j in i] for i in x]\n",
        "g = lambda x: x[1]+x[0]*len(train_dataset[0][0][0])\n",
        "history = model.fit(x=np.array([np.array(f(i[0])) for i in train_dataset]), y=np.array([g(i[1]) for i in train_dataset]), epochs=epochs, callbacks=[])"
      ],
      "metadata": {
        "colab": {
          "base_uri": "https://localhost:8080/",
          "height": 380
        },
        "id": "BHYzCu1iMrnF",
        "outputId": "621c925a-d0de-4528-d0b2-8279fd171f94"
      },
      "execution_count": null,
      "outputs": [
        {
          "output_type": "stream",
          "name": "stdout",
          "text": [
            "Epoch 1/100\n",
            " 61/324 [====>.........................] - ETA: 4s - loss: 49.6535 - accuracy: 0.0149"
          ]
        },
        {
          "output_type": "error",
          "ename": "KeyboardInterrupt",
          "evalue": "ignored",
          "traceback": [
            "\u001b[0;31m---------------------------------------------------------------------------\u001b[0m",
            "\u001b[0;31mKeyboardInterrupt\u001b[0m                         Traceback (most recent call last)",
            "\u001b[0;32m<ipython-input-79-fc646653937a>\u001b[0m in \u001b[0;36m<module>\u001b[0;34m\u001b[0m\n\u001b[1;32m     24\u001b[0m \u001b[0mf\u001b[0m \u001b[0;34m=\u001b[0m \u001b[0;32mlambda\u001b[0m \u001b[0mx\u001b[0m\u001b[0;34m:\u001b[0m\u001b[0;34m[\u001b[0m\u001b[0;34m[\u001b[0m\u001b[0mord\u001b[0m\u001b[0;34m(\u001b[0m\u001b[0mj\u001b[0m\u001b[0;34m)\u001b[0m \u001b[0;32mfor\u001b[0m \u001b[0mj\u001b[0m \u001b[0;32min\u001b[0m \u001b[0mi\u001b[0m\u001b[0;34m]\u001b[0m \u001b[0;32mfor\u001b[0m \u001b[0mi\u001b[0m \u001b[0;32min\u001b[0m \u001b[0mx\u001b[0m\u001b[0;34m]\u001b[0m\u001b[0;34m\u001b[0m\u001b[0;34m\u001b[0m\u001b[0m\n\u001b[1;32m     25\u001b[0m \u001b[0mg\u001b[0m \u001b[0;34m=\u001b[0m \u001b[0;32mlambda\u001b[0m \u001b[0mx\u001b[0m\u001b[0;34m:\u001b[0m \u001b[0mx\u001b[0m\u001b[0;34m[\u001b[0m\u001b[0;36m1\u001b[0m\u001b[0;34m]\u001b[0m\u001b[0;34m+\u001b[0m\u001b[0mx\u001b[0m\u001b[0;34m[\u001b[0m\u001b[0;36m0\u001b[0m\u001b[0;34m]\u001b[0m\u001b[0;34m*\u001b[0m\u001b[0mlen\u001b[0m\u001b[0;34m(\u001b[0m\u001b[0mtrain_dataset\u001b[0m\u001b[0;34m[\u001b[0m\u001b[0;36m0\u001b[0m\u001b[0;34m]\u001b[0m\u001b[0;34m[\u001b[0m\u001b[0;36m0\u001b[0m\u001b[0;34m]\u001b[0m\u001b[0;34m[\u001b[0m\u001b[0;36m0\u001b[0m\u001b[0;34m]\u001b[0m\u001b[0;34m)\u001b[0m\u001b[0;34m\u001b[0m\u001b[0;34m\u001b[0m\u001b[0m\n\u001b[0;32m---> 26\u001b[0;31m \u001b[0mhistory\u001b[0m \u001b[0;34m=\u001b[0m \u001b[0mmodel\u001b[0m\u001b[0;34m.\u001b[0m\u001b[0mfit\u001b[0m\u001b[0;34m(\u001b[0m\u001b[0mx\u001b[0m\u001b[0;34m=\u001b[0m\u001b[0mnp\u001b[0m\u001b[0;34m.\u001b[0m\u001b[0marray\u001b[0m\u001b[0;34m(\u001b[0m\u001b[0;34m[\u001b[0m\u001b[0mnp\u001b[0m\u001b[0;34m.\u001b[0m\u001b[0marray\u001b[0m\u001b[0;34m(\u001b[0m\u001b[0mf\u001b[0m\u001b[0;34m(\u001b[0m\u001b[0mi\u001b[0m\u001b[0;34m[\u001b[0m\u001b[0;36m0\u001b[0m\u001b[0;34m]\u001b[0m\u001b[0;34m)\u001b[0m\u001b[0;34m)\u001b[0m \u001b[0;32mfor\u001b[0m \u001b[0mi\u001b[0m \u001b[0;32min\u001b[0m \u001b[0mtrain_dataset\u001b[0m\u001b[0;34m]\u001b[0m\u001b[0;34m)\u001b[0m\u001b[0;34m,\u001b[0m \u001b[0my\u001b[0m\u001b[0;34m=\u001b[0m\u001b[0mnp\u001b[0m\u001b[0;34m.\u001b[0m\u001b[0marray\u001b[0m\u001b[0;34m(\u001b[0m\u001b[0;34m[\u001b[0m\u001b[0mg\u001b[0m\u001b[0;34m(\u001b[0m\u001b[0mi\u001b[0m\u001b[0;34m[\u001b[0m\u001b[0;36m1\u001b[0m\u001b[0;34m]\u001b[0m\u001b[0;34m)\u001b[0m \u001b[0;32mfor\u001b[0m \u001b[0mi\u001b[0m \u001b[0;32min\u001b[0m \u001b[0mtrain_dataset\u001b[0m\u001b[0;34m]\u001b[0m\u001b[0;34m)\u001b[0m\u001b[0;34m,\u001b[0m \u001b[0mepochs\u001b[0m\u001b[0;34m=\u001b[0m\u001b[0mepochs\u001b[0m\u001b[0;34m,\u001b[0m \u001b[0mcallbacks\u001b[0m\u001b[0;34m=\u001b[0m\u001b[0;34m[\u001b[0m\u001b[0;34m]\u001b[0m\u001b[0;34m)\u001b[0m\u001b[0;34m\u001b[0m\u001b[0;34m\u001b[0m\u001b[0m\n\u001b[0m",
            "\u001b[0;32m/usr/local/lib/python3.9/dist-packages/keras/utils/traceback_utils.py\u001b[0m in \u001b[0;36merror_handler\u001b[0;34m(*args, **kwargs)\u001b[0m\n\u001b[1;32m     63\u001b[0m         \u001b[0mfiltered_tb\u001b[0m \u001b[0;34m=\u001b[0m \u001b[0;32mNone\u001b[0m\u001b[0;34m\u001b[0m\u001b[0;34m\u001b[0m\u001b[0m\n\u001b[1;32m     64\u001b[0m         \u001b[0;32mtry\u001b[0m\u001b[0;34m:\u001b[0m\u001b[0;34m\u001b[0m\u001b[0;34m\u001b[0m\u001b[0m\n\u001b[0;32m---> 65\u001b[0;31m             \u001b[0;32mreturn\u001b[0m \u001b[0mfn\u001b[0m\u001b[0;34m(\u001b[0m\u001b[0;34m*\u001b[0m\u001b[0margs\u001b[0m\u001b[0;34m,\u001b[0m \u001b[0;34m**\u001b[0m\u001b[0mkwargs\u001b[0m\u001b[0;34m)\u001b[0m\u001b[0;34m\u001b[0m\u001b[0;34m\u001b[0m\u001b[0m\n\u001b[0m\u001b[1;32m     66\u001b[0m         \u001b[0;32mexcept\u001b[0m \u001b[0mException\u001b[0m \u001b[0;32mas\u001b[0m \u001b[0me\u001b[0m\u001b[0;34m:\u001b[0m\u001b[0;34m\u001b[0m\u001b[0;34m\u001b[0m\u001b[0m\n\u001b[1;32m     67\u001b[0m             \u001b[0mfiltered_tb\u001b[0m \u001b[0;34m=\u001b[0m \u001b[0m_process_traceback_frames\u001b[0m\u001b[0;34m(\u001b[0m\u001b[0me\u001b[0m\u001b[0;34m.\u001b[0m\u001b[0m__traceback__\u001b[0m\u001b[0;34m)\u001b[0m\u001b[0;34m\u001b[0m\u001b[0;34m\u001b[0m\u001b[0m\n",
            "\u001b[0;32m/usr/local/lib/python3.9/dist-packages/keras/engine/training.py\u001b[0m in \u001b[0;36mfit\u001b[0;34m(self, x, y, batch_size, epochs, verbose, callbacks, validation_split, validation_data, shuffle, class_weight, sample_weight, initial_epoch, steps_per_epoch, validation_steps, validation_batch_size, validation_freq, max_queue_size, workers, use_multiprocessing)\u001b[0m\n\u001b[1;32m   1648\u001b[0m                         ):\n\u001b[1;32m   1649\u001b[0m                             \u001b[0mcallbacks\u001b[0m\u001b[0;34m.\u001b[0m\u001b[0mon_train_batch_begin\u001b[0m\u001b[0;34m(\u001b[0m\u001b[0mstep\u001b[0m\u001b[0;34m)\u001b[0m\u001b[0;34m\u001b[0m\u001b[0;34m\u001b[0m\u001b[0m\n\u001b[0;32m-> 1650\u001b[0;31m                             \u001b[0mtmp_logs\u001b[0m \u001b[0;34m=\u001b[0m \u001b[0mself\u001b[0m\u001b[0;34m.\u001b[0m\u001b[0mtrain_function\u001b[0m\u001b[0;34m(\u001b[0m\u001b[0miterator\u001b[0m\u001b[0;34m)\u001b[0m\u001b[0;34m\u001b[0m\u001b[0;34m\u001b[0m\u001b[0m\n\u001b[0m\u001b[1;32m   1651\u001b[0m                             \u001b[0;32mif\u001b[0m \u001b[0mdata_handler\u001b[0m\u001b[0;34m.\u001b[0m\u001b[0mshould_sync\u001b[0m\u001b[0;34m:\u001b[0m\u001b[0;34m\u001b[0m\u001b[0;34m\u001b[0m\u001b[0m\n\u001b[1;32m   1652\u001b[0m                                 \u001b[0mcontext\u001b[0m\u001b[0;34m.\u001b[0m\u001b[0masync_wait\u001b[0m\u001b[0;34m(\u001b[0m\u001b[0;34m)\u001b[0m\u001b[0;34m\u001b[0m\u001b[0;34m\u001b[0m\u001b[0m\n",
            "\u001b[0;32m/usr/local/lib/python3.9/dist-packages/tensorflow/python/util/traceback_utils.py\u001b[0m in \u001b[0;36merror_handler\u001b[0;34m(*args, **kwargs)\u001b[0m\n\u001b[1;32m    148\u001b[0m     \u001b[0mfiltered_tb\u001b[0m \u001b[0;34m=\u001b[0m \u001b[0;32mNone\u001b[0m\u001b[0;34m\u001b[0m\u001b[0;34m\u001b[0m\u001b[0m\n\u001b[1;32m    149\u001b[0m     \u001b[0;32mtry\u001b[0m\u001b[0;34m:\u001b[0m\u001b[0;34m\u001b[0m\u001b[0;34m\u001b[0m\u001b[0m\n\u001b[0;32m--> 150\u001b[0;31m       \u001b[0;32mreturn\u001b[0m \u001b[0mfn\u001b[0m\u001b[0;34m(\u001b[0m\u001b[0;34m*\u001b[0m\u001b[0margs\u001b[0m\u001b[0;34m,\u001b[0m \u001b[0;34m**\u001b[0m\u001b[0mkwargs\u001b[0m\u001b[0;34m)\u001b[0m\u001b[0;34m\u001b[0m\u001b[0;34m\u001b[0m\u001b[0m\n\u001b[0m\u001b[1;32m    151\u001b[0m     \u001b[0;32mexcept\u001b[0m \u001b[0mException\u001b[0m \u001b[0;32mas\u001b[0m \u001b[0me\u001b[0m\u001b[0;34m:\u001b[0m\u001b[0;34m\u001b[0m\u001b[0;34m\u001b[0m\u001b[0m\n\u001b[1;32m    152\u001b[0m       \u001b[0mfiltered_tb\u001b[0m \u001b[0;34m=\u001b[0m \u001b[0m_process_traceback_frames\u001b[0m\u001b[0;34m(\u001b[0m\u001b[0me\u001b[0m\u001b[0;34m.\u001b[0m\u001b[0m__traceback__\u001b[0m\u001b[0;34m)\u001b[0m\u001b[0;34m\u001b[0m\u001b[0;34m\u001b[0m\u001b[0m\n",
            "\u001b[0;32m/usr/local/lib/python3.9/dist-packages/tensorflow/python/eager/polymorphic_function/polymorphic_function.py\u001b[0m in \u001b[0;36m__call__\u001b[0;34m(self, *args, **kwds)\u001b[0m\n\u001b[1;32m    878\u001b[0m \u001b[0;34m\u001b[0m\u001b[0m\n\u001b[1;32m    879\u001b[0m       \u001b[0;32mwith\u001b[0m \u001b[0mOptionalXlaContext\u001b[0m\u001b[0;34m(\u001b[0m\u001b[0mself\u001b[0m\u001b[0;34m.\u001b[0m\u001b[0m_jit_compile\u001b[0m\u001b[0;34m)\u001b[0m\u001b[0;34m:\u001b[0m\u001b[0;34m\u001b[0m\u001b[0;34m\u001b[0m\u001b[0m\n\u001b[0;32m--> 880\u001b[0;31m         \u001b[0mresult\u001b[0m \u001b[0;34m=\u001b[0m \u001b[0mself\u001b[0m\u001b[0;34m.\u001b[0m\u001b[0m_call\u001b[0m\u001b[0;34m(\u001b[0m\u001b[0;34m*\u001b[0m\u001b[0margs\u001b[0m\u001b[0;34m,\u001b[0m \u001b[0;34m**\u001b[0m\u001b[0mkwds\u001b[0m\u001b[0;34m)\u001b[0m\u001b[0;34m\u001b[0m\u001b[0;34m\u001b[0m\u001b[0m\n\u001b[0m\u001b[1;32m    881\u001b[0m \u001b[0;34m\u001b[0m\u001b[0m\n\u001b[1;32m    882\u001b[0m       \u001b[0mnew_tracing_count\u001b[0m \u001b[0;34m=\u001b[0m \u001b[0mself\u001b[0m\u001b[0;34m.\u001b[0m\u001b[0mexperimental_get_tracing_count\u001b[0m\u001b[0;34m(\u001b[0m\u001b[0;34m)\u001b[0m\u001b[0;34m\u001b[0m\u001b[0;34m\u001b[0m\u001b[0m\n",
            "\u001b[0;32m/usr/local/lib/python3.9/dist-packages/tensorflow/python/eager/polymorphic_function/polymorphic_function.py\u001b[0m in \u001b[0;36m_call\u001b[0;34m(self, *args, **kwds)\u001b[0m\n\u001b[1;32m    910\u001b[0m       \u001b[0;31m# In this case we have created variables on the first call, so we run the\u001b[0m\u001b[0;34m\u001b[0m\u001b[0;34m\u001b[0m\u001b[0m\n\u001b[1;32m    911\u001b[0m       \u001b[0;31m# defunned version which is guaranteed to never create variables.\u001b[0m\u001b[0;34m\u001b[0m\u001b[0;34m\u001b[0m\u001b[0m\n\u001b[0;32m--> 912\u001b[0;31m       \u001b[0;32mreturn\u001b[0m \u001b[0mself\u001b[0m\u001b[0;34m.\u001b[0m\u001b[0m_no_variable_creation_fn\u001b[0m\u001b[0;34m(\u001b[0m\u001b[0;34m*\u001b[0m\u001b[0margs\u001b[0m\u001b[0;34m,\u001b[0m \u001b[0;34m**\u001b[0m\u001b[0mkwds\u001b[0m\u001b[0;34m)\u001b[0m  \u001b[0;31m# pylint: disable=not-callable\u001b[0m\u001b[0;34m\u001b[0m\u001b[0;34m\u001b[0m\u001b[0m\n\u001b[0m\u001b[1;32m    913\u001b[0m     \u001b[0;32melif\u001b[0m \u001b[0mself\u001b[0m\u001b[0;34m.\u001b[0m\u001b[0m_variable_creation_fn\u001b[0m \u001b[0;32mis\u001b[0m \u001b[0;32mnot\u001b[0m \u001b[0;32mNone\u001b[0m\u001b[0;34m:\u001b[0m\u001b[0;34m\u001b[0m\u001b[0;34m\u001b[0m\u001b[0m\n\u001b[1;32m    914\u001b[0m       \u001b[0;31m# Release the lock early so that multiple threads can perform the call\u001b[0m\u001b[0;34m\u001b[0m\u001b[0;34m\u001b[0m\u001b[0m\n",
            "\u001b[0;32m/usr/local/lib/python3.9/dist-packages/tensorflow/python/eager/polymorphic_function/tracing_compiler.py\u001b[0m in \u001b[0;36m__call__\u001b[0;34m(self, *args, **kwargs)\u001b[0m\n\u001b[1;32m    132\u001b[0m       (concrete_function,\n\u001b[1;32m    133\u001b[0m        filtered_flat_args) = self._maybe_define_function(args, kwargs)\n\u001b[0;32m--> 134\u001b[0;31m     return concrete_function._call_flat(\n\u001b[0m\u001b[1;32m    135\u001b[0m         filtered_flat_args, captured_inputs=concrete_function.captured_inputs)  # pylint: disable=protected-access\n\u001b[1;32m    136\u001b[0m \u001b[0;34m\u001b[0m\u001b[0m\n",
            "\u001b[0;32m/usr/local/lib/python3.9/dist-packages/tensorflow/python/eager/polymorphic_function/monomorphic_function.py\u001b[0m in \u001b[0;36m_call_flat\u001b[0;34m(self, args, captured_inputs, cancellation_manager)\u001b[0m\n\u001b[1;32m   1743\u001b[0m         and executing_eagerly):\n\u001b[1;32m   1744\u001b[0m       \u001b[0;31m# No tape is watching; skip to running the function.\u001b[0m\u001b[0;34m\u001b[0m\u001b[0;34m\u001b[0m\u001b[0m\n\u001b[0;32m-> 1745\u001b[0;31m       return self._build_call_outputs(self._inference_function.call(\n\u001b[0m\u001b[1;32m   1746\u001b[0m           ctx, args, cancellation_manager=cancellation_manager))\n\u001b[1;32m   1747\u001b[0m     forward_backward = self._select_forward_and_backward_functions(\n",
            "\u001b[0;32m/usr/local/lib/python3.9/dist-packages/tensorflow/python/eager/polymorphic_function/monomorphic_function.py\u001b[0m in \u001b[0;36mcall\u001b[0;34m(self, ctx, args, cancellation_manager)\u001b[0m\n\u001b[1;32m    376\u001b[0m       \u001b[0;32mwith\u001b[0m \u001b[0m_InterpolateFunctionError\u001b[0m\u001b[0;34m(\u001b[0m\u001b[0mself\u001b[0m\u001b[0;34m)\u001b[0m\u001b[0;34m:\u001b[0m\u001b[0;34m\u001b[0m\u001b[0;34m\u001b[0m\u001b[0m\n\u001b[1;32m    377\u001b[0m         \u001b[0;32mif\u001b[0m \u001b[0mcancellation_manager\u001b[0m \u001b[0;32mis\u001b[0m \u001b[0;32mNone\u001b[0m\u001b[0;34m:\u001b[0m\u001b[0;34m\u001b[0m\u001b[0;34m\u001b[0m\u001b[0m\n\u001b[0;32m--> 378\u001b[0;31m           outputs = execute.execute(\n\u001b[0m\u001b[1;32m    379\u001b[0m               \u001b[0mstr\u001b[0m\u001b[0;34m(\u001b[0m\u001b[0mself\u001b[0m\u001b[0;34m.\u001b[0m\u001b[0msignature\u001b[0m\u001b[0;34m.\u001b[0m\u001b[0mname\u001b[0m\u001b[0;34m)\u001b[0m\u001b[0;34m,\u001b[0m\u001b[0;34m\u001b[0m\u001b[0;34m\u001b[0m\u001b[0m\n\u001b[1;32m    380\u001b[0m               \u001b[0mnum_outputs\u001b[0m\u001b[0;34m=\u001b[0m\u001b[0mself\u001b[0m\u001b[0;34m.\u001b[0m\u001b[0m_num_outputs\u001b[0m\u001b[0;34m,\u001b[0m\u001b[0;34m\u001b[0m\u001b[0;34m\u001b[0m\u001b[0m\n",
            "\u001b[0;32m/usr/local/lib/python3.9/dist-packages/tensorflow/python/eager/execute.py\u001b[0m in \u001b[0;36mquick_execute\u001b[0;34m(op_name, num_outputs, inputs, attrs, ctx, name)\u001b[0m\n\u001b[1;32m     50\u001b[0m   \u001b[0;32mtry\u001b[0m\u001b[0;34m:\u001b[0m\u001b[0;34m\u001b[0m\u001b[0;34m\u001b[0m\u001b[0m\n\u001b[1;32m     51\u001b[0m     \u001b[0mctx\u001b[0m\u001b[0;34m.\u001b[0m\u001b[0mensure_initialized\u001b[0m\u001b[0;34m(\u001b[0m\u001b[0;34m)\u001b[0m\u001b[0;34m\u001b[0m\u001b[0;34m\u001b[0m\u001b[0m\n\u001b[0;32m---> 52\u001b[0;31m     tensors = pywrap_tfe.TFE_Py_Execute(ctx._handle, device_name, op_name,\n\u001b[0m\u001b[1;32m     53\u001b[0m                                         inputs, attrs, num_outputs)\n\u001b[1;32m     54\u001b[0m   \u001b[0;32mexcept\u001b[0m \u001b[0mcore\u001b[0m\u001b[0;34m.\u001b[0m\u001b[0m_NotOkStatusException\u001b[0m \u001b[0;32mas\u001b[0m \u001b[0me\u001b[0m\u001b[0;34m:\u001b[0m\u001b[0;34m\u001b[0m\u001b[0;34m\u001b[0m\u001b[0m\n",
            "\u001b[0;31mKeyboardInterrupt\u001b[0m: "
          ]
        }
      ]
    },
    {
      "cell_type": "code",
      "source": [
        "np.array([g(i[1]) for i in train_dataset])"
      ],
      "metadata": {
        "id": "rS8YBGsFshz2",
        "outputId": "a1bfd320-5363-4238-dd47-ffd4994ad5d9",
        "colab": {
          "base_uri": "https://localhost:8080/"
        }
      },
      "execution_count": null,
      "outputs": [
        {
          "output_type": "execute_result",
          "data": {
            "text/plain": [
              "array([11, 10, 18, ..., 84, 95, 96])"
            ]
          },
          "metadata": {},
          "execution_count": 57
        }
      ]
    },
    {
      "cell_type": "code",
      "source": [
        "for i in random.sample(range(len(train_dataset)), 10):\n",
        "  pred = model.predict(np.array([f(train_dataset[i][0])]))[0].reshape(10, 10)\n",
        "  print(np.unravel_index(np.argmax(pred), pred.shape), train_dataset[i][1])\n",
        "  plt.figure()\n",
        "  plt.imshow(pred, cmap=\"hot\")  \n",
        "  plt.show()"
      ],
      "metadata": {
        "colab": {
          "base_uri": "https://localhost:8080/",
          "height": 1000
        },
        "id": "OFN1QeU9VC3N",
        "outputId": "29230841-27c8-4cd0-d954-ce859ec4360e"
      },
      "execution_count": null,
      "outputs": [
        {
          "output_type": "stream",
          "name": "stdout",
          "text": [
            "1/1 [==============================] - 0s 185ms/step\n",
            "(3, 9) [0, 4]\n"
          ]
        },
        {
          "output_type": "display_data",
          "data": {
            "text/plain": [
              "<Figure size 432x288 with 1 Axes>"
            ],
            "image/png": "[encoded data removed]"
          },
          "metadata": {
            "needs_background": "light"
          }
        },
        {
          "output_type": "stream",
          "name": "stdout",
          "text": [
            "1/1 [==============================] - 0s 37ms/step\n",
            "(3, 9) [3, 4]\n"
          ]
        },
        {
          "output_type": "display_data",
          "data": {
            "text/plain": [
              "<Figure size 432x288 with 1 Axes>"
            ],
            "image/png": "[encoded data removed]"
          },
          "metadata": {
            "needs_background": "light"
          }
        },
        {
          "output_type": "stream",
          "name": "stdout",
          "text": [
            "1/1 [==============================] - 0s 26ms/step\n",
            "(3, 9) [8, 6]\n"
          ]
        },
        {
          "output_type": "display_data",
          "data": {
            "text/plain": [
              "<Figure size 432x288 with 1 Axes>"
            ],
            "image/png": "[encoded data removed]"
          },
          "metadata": {
            "needs_background": "light"
          }
        },
        {
          "output_type": "stream",
          "name": "stdout",
          "text": [
            "1/1 [==============================] - 0s 27ms/step\n",
            "(3, 9) [7, 8]\n"
          ]
        },
        {
          "output_type": "display_data",
          "data": {
            "text/plain": [
              "<Figure size 432x288 with 1 Axes>"
            ],
            "image/png": "[encoded data removed]"
          },
          "metadata": {
            "needs_background": "light"
          }
        },
        {
          "output_type": "stream",
          "name": "stdout",
          "text": [
            "1/1 [==============================] - 0s 27ms/step\n",
            "(3, 9) [5, 6]\n"
          ]
        },
        {
          "output_type": "display_data",
          "data": {
            "text/plain": [
              "<Figure size 432x288 with 1 Axes>"
            ],
            "image/png": "[encoded data removed]"
          },
          "metadata": {
            "needs_background": "light"
          }
        },
        {
          "output_type": "stream",
          "name": "stdout",
          "text": [
            "1/1 [==============================] - 0s 26ms/step\n",
            "(3, 9) [9, 6]\n"
          ]
        },
        {
          "output_type": "display_data",
          "data": {
            "text/plain": [
              "<Figure size 432x288 with 1 Axes>"
            ],
            "image/png": "[encoded data removed]"
          },
          "metadata": {
            "needs_background": "light"
          }
        },
        {
          "output_type": "stream",
          "name": "stdout",
          "text": [
            "1/1 [==============================] - 0s 29ms/step\n",
            "(3, 9) [1, 7]\n"
          ]
        },
        {
          "output_type": "display_data",
          "data": {
            "text/plain": [
              "<Figure size 432x288 with 1 Axes>"
            ],
            "image/png": "[encoded data removed]"
          },
          "metadata": {
            "needs_background": "light"
          }
        },
        {
          "output_type": "stream",
          "name": "stdout",
          "text": [
            "1/1 [==============================] - 0s 31ms/step\n",
            "(3, 9) [8, 4]\n"
          ]
        },
        {
          "output_type": "display_data",
          "data": {
            "text/plain": [
              "<Figure size 432x288 with 1 Axes>"
            ],
            "image/png": "[encoded data removed]"
          },
          "metadata": {
            "needs_background": "light"
          }
        },
        {
          "output_type": "stream",
          "name": "stdout",
          "text": [
            "1/1 [==============================] - 0s 31ms/step\n",
            "(3, 9) [0, 2]\n"
          ]
        },
        {
          "output_type": "display_data",
          "data": {
            "text/plain": [
              "<Figure size 432x288 with 1 Axes>"
            ],
            "image/png": "[encoded data removed]"
          },
          "metadata": {
            "needs_background": "light"
          }
        },
        {
          "output_type": "stream",
          "name": "stdout",
          "text": [
            "1/1 [==============================] - 0s 25ms/step\n",
            "(3, 9) [4, 7]\n"
          ]
        },
        {
          "output_type": "display_data",
          "data": {
            "text/plain": [
              "<Figure size 432x288 with 1 Axes>"
            ],
            "image/png": "[encoded data removed]"
          },
          "metadata": {
            "needs_background": "light"
          }
        }
      ]
    },
    {
      "cell_type": "code",
      "source": [
        "import copy\n",
        "copyObj = copy.copy(g)"
      ],
      "metadata": {
        "id": "fOxWpw54DdNZ"
      },
      "execution_count": null,
      "outputs": []
    },
    {
      "cell_type": "code",
      "source": [
        "copyObj.__dict__"
      ],
      "metadata": {
        "colab": {
          "base_uri": "https://localhost:8080/"
        },
        "id": "dVPphkkaH1TT",
        "outputId": "a1bf1a56-cf8c-4547-9cfc-600823ffccda"
      },
      "execution_count": null,
      "outputs": [
        {
          "output_type": "execute_result",
          "data": {
            "text/plain": [
              "{'objects': {'.': ['.', 0],\n",
              "  'a': ['b', 1],\n",
              "  'b': ['c', 5],\n",
              "  'c': ['d', 25],\n",
              "  'd': ['e', 125],\n",
              "  'e': ['e', 625],\n",
              "  '1': ['1', -25],\n",
              "  '2': ['3', -5],\n",
              "  '3': ['4', 50],\n",
              "  '4': ['4', 500],\n",
              "  'x': ['x', -50]},\n",
              " 'matrix': [['b', 'a', 'a', '2', 'a', '2', 'a', 'a', '3', 'a'],\n",
              "  ['2', 'a', '2', 'a', '2', 'a', '2', 'a', '2', 'a'],\n",
              "  ['a', '2', 'a', 'c', 'a', 'b', 'a', 'c', 'a', 'b'],\n",
              "  ['a', 'c', 'a', '3', 'a', '2', 'a', '2', 'a', 'b'],\n",
              "  ['b', '2', 'c', '2', '2', 'c', '3', 'a', 'c', '2'],\n",
              "  ['b', 'a', '2', 'a', 'b', 'a', 'c', 'a', '2', 'a'],\n",
              "  ['a', 'b', '2', 'c', 'd', '2', 'a', '3', 'a', 'a'],\n",
              "  ['a', 'b', 'd', 'a', 'a', 'c', 'a', 'd', 'a', '2'],\n",
              "  ['d', '3', 'b', '2', 'c', 'x', 'b', '2', 'a', 'a'],\n",
              "  ['a', 'b', 'a', 'a', 'c', '2', 'a', 'a', '2', 'a']],\n",
              " 'seq': '',\n",
              " 'turn': 227,\n",
              " 'score': [-14,\n",
              "  7,\n",
              "  10,\n",
              "  5,\n",
              "  6,\n",
              "  7,\n",
              "  28,\n",
              "  49,\n",
              "  50,\n",
              "  51,\n",
              "  52,\n",
              "  53,\n",
              "  -44,\n",
              "  -3,\n",
              "  -2,\n",
              "  -1,\n",
              "  4,\n",
              "  -1,\n",
              "  10,\n",
              "  11,\n",
              "  12,\n",
              "  13,\n",
              "  14,\n",
              "  15,\n",
              "  16,\n",
              "  17,\n",
              "  20,\n",
              "  15,\n",
              "  28,\n",
              "  23,\n",
              "  24,\n",
              "  27,\n",
              "  28,\n",
              "  43,\n",
              "  44,\n",
              "  45,\n",
              "  48,\n",
              "  43,\n",
              "  48,\n",
              "  61,\n",
              "  62,\n",
              "  63,\n",
              "  38,\n",
              "  39,\n",
              "  64,\n",
              "  69,\n",
              "  70,\n",
              "  73,\n",
              "  74,\n",
              "  69,\n",
              "  70,\n",
              "  71,\n",
              "  72,\n",
              "  75,\n",
              "  76,\n",
              "  77,\n",
              "  80,\n",
              "  95,\n",
              "  90,\n",
              "  93,\n",
              "  106,\n",
              "  107,\n",
              "  108,\n",
              "  109,\n",
              "  110,\n",
              "  160,\n",
              "  161,\n",
              "  162,\n",
              "  165,\n",
              "  225,\n",
              "  228,\n",
              "  229,\n",
              "  232,\n",
              "  235,\n",
              "  210,\n",
              "  211,\n",
              "  226,\n",
              "  221,\n",
              "  222,\n",
              "  247,\n",
              "  248,\n",
              "  249,\n",
              "  250,\n",
              "  251,\n",
              "  252,\n",
              "  247,\n",
              "  250,\n",
              "  251,\n",
              "  301,\n",
              "  302,\n",
              "  297,\n",
              "  302,\n",
              "  315,\n",
              "  316,\n",
              "  317,\n",
              "  320,\n",
              "  321,\n",
              "  322,\n",
              "  317,\n",
              "  318,\n",
              "  319,\n",
              "  324,\n",
              "  389,\n",
              "  384,\n",
              "  385,\n",
              "  360,\n",
              "  363,\n",
              "  366,\n",
              "  379,\n",
              "  354,\n",
              "  329,\n",
              "  304,\n",
              "  417,\n",
              "  507,\n",
              "  508,\n",
              "  529,\n",
              "  530,\n",
              "  545,\n",
              "  540,\n",
              "  541,\n",
              "  544,\n",
              "  559,\n",
              "  560,\n",
              "  555,\n",
              "  556,\n",
              "  559,\n",
              "  554,\n",
              "  529,\n",
              "  530,\n",
              "  531,\n",
              "  532,\n",
              "  535,\n",
              "  536,\n",
              "  557,\n",
              "  560,\n",
              "  561,\n",
              "  574,\n",
              "  549,\n",
              "  570,\n",
              "  545,\n",
              "  520,\n",
              "  640,\n",
              "  641,\n",
              "  646,\n",
              "  649,\n",
              "  650,\n",
              "  651,\n",
              "  652,\n",
              "  653,\n",
              "  654,\n",
              "  655,\n",
              "  658,\n",
              "  661,\n",
              "  701,\n",
              "  714,\n",
              "  715,\n",
              "  716,\n",
              "  719,\n",
              "  694,\n",
              "  715,\n",
              "  716,\n",
              "  721,\n",
              "  724,\n",
              "  725,\n",
              "  726,\n",
              "  727,\n",
              "  730,\n",
              "  735,\n",
              "  730,\n",
              "  731,\n",
              "  746,\n",
              "  747,\n",
              "  748,\n",
              "  751,\n",
              "  754,\n",
              "  755,\n",
              "  756,\n",
              "  751,\n",
              "  752,\n",
              "  753,\n",
              "  756,\n",
              "  731,\n",
              "  752,\n",
              "  753,\n",
              "  766,\n",
              "  771,\n",
              "  772,\n",
              "  773,\n",
              "  748,\n",
              "  723,\n",
              "  724,\n",
              "  729,\n",
              "  742,\n",
              "  747,\n",
              "  812,\n",
              "  833,\n",
              "  836,\n",
              "  837,\n",
              "  832,\n",
              "  833,\n",
              "  784,\n",
              "  809,\n",
              "  804,\n",
              "  805,\n",
              "  806,\n",
              "  809,\n",
              "  812,\n",
              "  813,\n",
              "  814,\n",
              "  829,\n",
              "  830,\n",
              "  805,\n",
              "  780,\n",
              "  781,\n",
              "  784,\n",
              "  805,\n",
              "  806,\n",
              "  781,\n",
              "  756,\n",
              "  882,\n",
              "  883,\n",
              "  884,\n",
              "  885,\n",
              "  886,\n",
              "  961,\n",
              "  962,\n",
              "  963,\n",
              "  964],\n",
              " 'storage': '.',\n",
              " 'bigFoots': [[[1, 6], 227, True],\n",
              "  [[1, 4], 227, True],\n",
              "  [[1, 2], 227, True],\n",
              "  [[7, 9], 225, True],\n",
              "  [[0, 5], 211, True],\n",
              "  [[0, 3], 201, True],\n",
              "  [[1, 0], 186, True],\n",
              "  [[2, 1], 179, True],\n",
              "  [[5, 8], 151, True],\n",
              "  [[1, 8], 143, True],\n",
              "  [[4, 9], 138, True],\n",
              "  [[3, 7], 130, True],\n",
              "  [[3, 5], 110, True],\n",
              "  [[4, 4], 105, True],\n",
              "  [[5, 2], 102, True],\n",
              "  [[4, 3], 60, True],\n",
              "  [[6, 5], 51, True],\n",
              "  [[6, 2], 47, True],\n",
              "  [[8, 7], 40, True],\n",
              "  [[9, 5], 39, True],\n",
              "  [[4, 1], 30, True],\n",
              "  [[9, 8], 26, True],\n",
              "  [[8, 3], 16, True]],\n",
              " 'actual': 'a',\n",
              " 'tr': <__main__.Trie at 0x7f2a9f5fbdc0>,\n",
              " 'visitedMatrix': [[False,\n",
              "   False,\n",
              "   False,\n",
              "   False,\n",
              "   False,\n",
              "   False,\n",
              "   False,\n",
              "   False,\n",
              "   False,\n",
              "   False],\n",
              "  [False, False, False, False, False, False, False, False, False, False],\n",
              "  [False, False, False, False, False, False, False, False, False, False],\n",
              "  [False, False, False, False, False, False, False, False, False, False],\n",
              "  [False, False, False, False, False, False, False, False, False, False],\n",
              "  [False, False, False, False, False, False, False, False, False, False],\n",
              "  [False, False, False, False, False, False, False, False, False, False],\n",
              "  [False, False, False, False, False, False, False, False, False, False],\n",
              "  [False, False, False, True, False, False, False, False, False, False],\n",
              "  [False, False, False, False, False, False, False, False, False, False]]}"
            ]
          },
          "metadata": {},
          "execution_count": 98
        }
      ]
    },
    {
      "cell_type": "code",
      "source": [
        "copyObj.main()"
      ],
      "metadata": {
        "colab": {
          "base_uri": "https://localhost:8080/",
          "height": 1000
        },
        "id": "2qRrckAaF_LS",
        "outputId": "ac84471e-c7ab-49a2-a58c-431b66315afc"
      },
      "execution_count": null,
      "outputs": [
        {
          "output_type": "stream",
          "name": "stdout",
          "text": [
            "Que empiece el juego:😉\n"
          ]
        },
        {
          "output_type": "display_data",
          "data": {
            "text/plain": [
              "<IPython.core.display.HTML object>"
            ],
            "text/html": [
              "<table border=\"1\" class=\"dataframe\">\n",
              "  <thead>\n",
              "    <tr style=\"text-align: right;\">\n",
              "      <th></th>\n",
              "      <th>0</th>\n",
              "      <th>1</th>\n",
              "      <th>2</th>\n",
              "      <th>3</th>\n",
              "      <th>4</th>\n",
              "      <th>5</th>\n",
              "    </tr>\n",
              "  </thead>\n",
              "  <tbody>\n",
              "    <tr>\n",
              "      <th>A</th>\n",
              "      <td>a</td>\n",
              "      <td>.</td>\n",
              "      <td>a</td>\n",
              "      <td>2</td>\n",
              "      <td>b</td>\n",
              "      <td>.</td>\n",
              "    </tr>\n",
              "    <tr>\n",
              "      <th>B</th>\n",
              "      <td>.</td>\n",
              "      <td>1</td>\n",
              "      <td>.</td>\n",
              "      <td>a</td>\n",
              "      <td>3</td>\n",
              "      <td>.</td>\n",
              "    </tr>\n",
              "    <tr>\n",
              "      <th>C</th>\n",
              "      <td>.</td>\n",
              "      <td>.</td>\n",
              "      <td>a</td>\n",
              "      <td>.</td>\n",
              "      <td>c</td>\n",
              "      <td>c</td>\n",
              "    </tr>\n",
              "    <tr>\n",
              "      <th>D</th>\n",
              "      <td>a</td>\n",
              "      <td>.</td>\n",
              "      <td>.</td>\n",
              "      <td>a</td>\n",
              "      <td>.</td>\n",
              "      <td>c</td>\n",
              "    </tr>\n",
              "    <tr>\n",
              "      <th>E</th>\n",
              "      <td>a</td>\n",
              "      <td>.</td>\n",
              "      <td>a</td>\n",
              "      <td>a</td>\n",
              "      <td>1</td>\n",
              "      <td>.</td>\n",
              "    </tr>\n",
              "    <tr>\n",
              "      <th>F</th>\n",
              "      <td>.</td>\n",
              "      <td>a</td>\n",
              "      <td>a</td>\n",
              "      <td>c</td>\n",
              "      <td>.</td>\n",
              "      <td>b</td>\n",
              "    </tr>\n",
              "  </tbody>\n",
              "</table>"
            ]
          },
          "metadata": {}
        },
        {
          "name": "stdout",
          "output_type": "stream",
          "text": [
            "\n",
            "Turno: 7 Puntos:116\n",
            "Almacen: [.] Actual: [a]\n",
            "Mover a casilla: a1\n"
          ]
        },
        {
          "output_type": "display_data",
          "data": {
            "text/plain": [
              "<IPython.core.display.HTML object>"
            ],
            "text/html": [
              "<table border=\"1\" class=\"dataframe\">\n",
              "  <thead>\n",
              "    <tr style=\"text-align: right;\">\n",
              "      <th></th>\n",
              "      <th>0</th>\n",
              "      <th>1</th>\n",
              "      <th>2</th>\n",
              "      <th>3</th>\n",
              "      <th>4</th>\n",
              "      <th>5</th>\n",
              "    </tr>\n",
              "  </thead>\n",
              "  <tbody>\n",
              "    <tr>\n",
              "      <th>A</th>\n",
              "      <td>.</td>\n",
              "      <td>b</td>\n",
              "      <td>.</td>\n",
              "      <td>2</td>\n",
              "      <td>b</td>\n",
              "      <td>.</td>\n",
              "    </tr>\n",
              "    <tr>\n",
              "      <th>B</th>\n",
              "      <td>.</td>\n",
              "      <td>.</td>\n",
              "      <td>1</td>\n",
              "      <td>a</td>\n",
              "      <td>3</td>\n",
              "      <td>.</td>\n",
              "    </tr>\n",
              "    <tr>\n",
              "      <th>C</th>\n",
              "      <td>.</td>\n",
              "      <td>.</td>\n",
              "      <td>a</td>\n",
              "      <td>.</td>\n",
              "      <td>c</td>\n",
              "      <td>c</td>\n",
              "    </tr>\n",
              "    <tr>\n",
              "      <th>D</th>\n",
              "      <td>a</td>\n",
              "      <td>.</td>\n",
              "      <td>.</td>\n",
              "      <td>a</td>\n",
              "      <td>1</td>\n",
              "      <td>c</td>\n",
              "    </tr>\n",
              "    <tr>\n",
              "      <th>E</th>\n",
              "      <td>a</td>\n",
              "      <td>.</td>\n",
              "      <td>a</td>\n",
              "      <td>a</td>\n",
              "      <td>.</td>\n",
              "      <td>.</td>\n",
              "    </tr>\n",
              "    <tr>\n",
              "      <th>F</th>\n",
              "      <td>.</td>\n",
              "      <td>a</td>\n",
              "      <td>a</td>\n",
              "      <td>c</td>\n",
              "      <td>.</td>\n",
              "      <td>b</td>\n",
              "    </tr>\n",
              "  </tbody>\n",
              "</table>"
            ]
          },
          "metadata": {}
        },
        {
          "name": "stdout",
          "output_type": "stream",
          "text": [
            "\n",
            "Turno: 8 Puntos:119\n",
            "Almacen: [.] Actual: [1]\n",
            "Mover a casilla: a5\n"
          ]
        },
        {
          "output_type": "display_data",
          "data": {
            "text/plain": [
              "<IPython.core.display.HTML object>"
            ],
            "text/html": [
              "<table border=\"1\" class=\"dataframe\">\n",
              "  <thead>\n",
              "    <tr style=\"text-align: right;\">\n",
              "      <th></th>\n",
              "      <th>0</th>\n",
              "      <th>1</th>\n",
              "      <th>2</th>\n",
              "      <th>3</th>\n",
              "      <th>4</th>\n",
              "      <th>5</th>\n",
              "    </tr>\n",
              "  </thead>\n",
              "  <tbody>\n",
              "    <tr>\n",
              "      <th>A</th>\n",
              "      <td>.</td>\n",
              "      <td>b</td>\n",
              "      <td>1</td>\n",
              "      <td>2</td>\n",
              "      <td>b</td>\n",
              "      <td>1</td>\n",
              "    </tr>\n",
              "    <tr>\n",
              "      <th>B</th>\n",
              "      <td>.</td>\n",
              "      <td>.</td>\n",
              "      <td>.</td>\n",
              "      <td>a</td>\n",
              "      <td>3</td>\n",
              "      <td>.</td>\n",
              "    </tr>\n",
              "    <tr>\n",
              "      <th>C</th>\n",
              "      <td>.</td>\n",
              "      <td>.</td>\n",
              "      <td>a</td>\n",
              "      <td>.</td>\n",
              "      <td>c</td>\n",
              "      <td>c</td>\n",
              "    </tr>\n",
              "    <tr>\n",
              "      <th>D</th>\n",
              "      <td>a</td>\n",
              "      <td>.</td>\n",
              "      <td>.</td>\n",
              "      <td>a</td>\n",
              "      <td>.</td>\n",
              "      <td>c</td>\n",
              "    </tr>\n",
              "    <tr>\n",
              "      <th>E</th>\n",
              "      <td>a</td>\n",
              "      <td>.</td>\n",
              "      <td>a</td>\n",
              "      <td>a</td>\n",
              "      <td>1</td>\n",
              "      <td>.</td>\n",
              "    </tr>\n",
              "    <tr>\n",
              "      <th>F</th>\n",
              "      <td>.</td>\n",
              "      <td>a</td>\n",
              "      <td>a</td>\n",
              "      <td>c</td>\n",
              "      <td>.</td>\n",
              "      <td>b</td>\n",
              "    </tr>\n",
              "  </tbody>\n",
              "</table>"
            ]
          },
          "metadata": {}
        },
        {
          "output_type": "stream",
          "name": "stdout",
          "text": [
            "\n",
            "Turno: 9 Puntos:94\n",
            "Almacen: [.] Actual: [a]\n",
            "Mover a casilla: exit\n",
            "Partida terminada, GG:👏\n"
          ]
        },
        {
          "output_type": "display_data",
          "data": {
            "text/plain": [
              "<Figure size 864x864 with 1 Axes>"
            ],
            "image/png": "[encoded data removed]"
          },
          "metadata": {
            "needs_background": "light"
          }
        }
      ]
    }
  ]
}