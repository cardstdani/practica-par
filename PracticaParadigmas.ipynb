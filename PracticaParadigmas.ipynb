{
  "nbformat": 4,
  "nbformat_minor": 0,
  "metadata": {
    "colab": {
      "provenance": [],
      "authorship_tag": "ABX9TyPGiHCPUN3TLZrGCKIa8dxI",
      "include_colab_link": true
    },
    "kernelspec": {
      "name": "python3",
      "display_name": "Python 3"
    },
    "language_info": {
      "name": "python"
    }
  },
  "cells": [
    {
      "cell_type": "markdown",
      "metadata": {
        "id": "view-in-github",
        "colab_type": "text"
      },
      "source": [
        "<a href=\"https://colab.research.google.com/github/cardstdani/practica-par/blob/main/PracticaParadigmas.ipynb\" target=\"_parent\"><img src=\"https://colab.research.google.com/assets/colab-badge.svg\" alt=\"Open In Colab\"/></a>"
      ]
    },
    {
      "cell_type": "markdown",
      "source": [
        "**Práctica Paradigmas 1**"
      ],
      "metadata": {
        "id": "wImBr3cEO8zm"
      }
    },
    {
      "cell_type": "code",
      "source": [
        "import numpy as np\n",
        "import pandas as pd\n",
        "from IPython.display import display, HTML\n",
        "\n",
        "class MainGame:\n",
        "  def __init__(self):\n",
        "    self.matrix = np.full((16, 16), \"0\")\n",
        "    self.turn = 0\n",
        "    self.score = 0\n",
        "    self.storage = \"\"\n",
        "    self.actual = \"\"\n",
        "  \n",
        "  def validarEntrada(self, s):\n",
        "    return True if s in set(''.join(chr(97+int(j)) for j in str(i))+str(k) for k in range(len(self.matrix[0])) for i in range(len(self.matrix))) or s==\"exit\" else False\n",
        "\n",
        "  def play(self):\n",
        "    while True:\n",
        "      message = input(\"Mover a casilla: \").lower()\n",
        "      while not self.validarEntrada(message): message = input(\"Error de entrada\\nMover a casilla: \").lower()\n",
        "      if message==\"exit\": break \n",
        "      self.showGame()\n",
        "\n",
        "  def showGame(self):\n",
        "    df = pd.DataFrame(self.matrix, columns=list(range(len(self.matrix[0]))), index=[''.join(chr(65+int(j)) for j in str(i)) for i in range(len(self.matrix))])\n",
        "    print(f\"{display(HTML(df.to_html()))}\\nTurno: {self.turn} Puntos:{self.score}\\nAlmacen:{self.storage} Actual: {self.actual}\")\n",
        "\n",
        "if __name__==\"__main__\":\n",
        "  g = MainGame()\n",
        "  g.play()"
      ],
      "metadata": {
        "id": "CB4Ljmu7PygY"
      },
      "execution_count": null,
      "outputs": []
    }
  ]
}